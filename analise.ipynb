{
 "cells": [
  {
   "cell_type": "code",
   "execution_count": 38,
   "outputs": [],
   "source": [
    "import pandas as pd"
   ],
   "metadata": {
    "collapsed": false,
    "pycharm": {
     "name": "#%%\n"
    }
   }
  },
  {
   "cell_type": "code",
   "execution_count": 39,
   "outputs": [
    {
     "data": {
      "text/plain": "   userId  movieId  rating  timestamp\n0       1        1     4.0  964982703\n1       1        3     4.0  964981247\n2       1        6     4.0  964982224\n3       1       47     5.0  964983815\n4       1       50     5.0  964982931",
      "text/html": "<div>\n<style scoped>\n    .dataframe tbody tr th:only-of-type {\n        vertical-align: middle;\n    }\n\n    .dataframe tbody tr th {\n        vertical-align: top;\n    }\n\n    .dataframe thead th {\n        text-align: right;\n    }\n</style>\n<table border=\"1\" class=\"dataframe\">\n  <thead>\n    <tr style=\"text-align: right;\">\n      <th></th>\n      <th>userId</th>\n      <th>movieId</th>\n      <th>rating</th>\n      <th>timestamp</th>\n    </tr>\n  </thead>\n  <tbody>\n    <tr>\n      <th>0</th>\n      <td>1</td>\n      <td>1</td>\n      <td>4.0</td>\n      <td>964982703</td>\n    </tr>\n    <tr>\n      <th>1</th>\n      <td>1</td>\n      <td>3</td>\n      <td>4.0</td>\n      <td>964981247</td>\n    </tr>\n    <tr>\n      <th>2</th>\n      <td>1</td>\n      <td>6</td>\n      <td>4.0</td>\n      <td>964982224</td>\n    </tr>\n    <tr>\n      <th>3</th>\n      <td>1</td>\n      <td>47</td>\n      <td>5.0</td>\n      <td>964983815</td>\n    </tr>\n    <tr>\n      <th>4</th>\n      <td>1</td>\n      <td>50</td>\n      <td>5.0</td>\n      <td>964982931</td>\n    </tr>\n  </tbody>\n</table>\n</div>"
     },
     "execution_count": 39,
     "metadata": {},
     "output_type": "execute_result"
    }
   ],
   "source": [
    "notas = pd.read_csv('ml-latest-small/ratings.csv')\n",
    "notas.head()"
   ],
   "metadata": {
    "collapsed": false,
    "pycharm": {
     "name": "#%%\n"
    }
   }
  },
  {
   "cell_type": "code",
   "execution_count": 40,
   "outputs": [
    {
     "data": {
      "text/plain": "(100836, 4)"
     },
     "execution_count": 40,
     "metadata": {},
     "output_type": "execute_result"
    }
   ],
   "source": [
    "notas.shape"
   ],
   "metadata": {
    "collapsed": false,
    "pycharm": {
     "name": "#%%\n"
    }
   }
  },
  {
   "cell_type": "code",
   "execution_count": 41,
   "outputs": [],
   "source": [
    "notas.columns = [\"usuario_ID\", \"filme_ID\", \"nota\", \"momento\"]"
   ],
   "metadata": {
    "collapsed": false,
    "pycharm": {
     "name": "#%%\n"
    }
   }
  },
  {
   "cell_type": "code",
   "execution_count": 42,
   "outputs": [
    {
     "data": {
      "text/plain": "   usuario_ID  filme_ID  nota    momento\n0           1         1   4.0  964982703\n1           1         3   4.0  964981247\n2           1         6   4.0  964982224\n3           1        47   5.0  964983815\n4           1        50   5.0  964982931",
      "text/html": "<div>\n<style scoped>\n    .dataframe tbody tr th:only-of-type {\n        vertical-align: middle;\n    }\n\n    .dataframe tbody tr th {\n        vertical-align: top;\n    }\n\n    .dataframe thead th {\n        text-align: right;\n    }\n</style>\n<table border=\"1\" class=\"dataframe\">\n  <thead>\n    <tr style=\"text-align: right;\">\n      <th></th>\n      <th>usuario_ID</th>\n      <th>filme_ID</th>\n      <th>nota</th>\n      <th>momento</th>\n    </tr>\n  </thead>\n  <tbody>\n    <tr>\n      <th>0</th>\n      <td>1</td>\n      <td>1</td>\n      <td>4.0</td>\n      <td>964982703</td>\n    </tr>\n    <tr>\n      <th>1</th>\n      <td>1</td>\n      <td>3</td>\n      <td>4.0</td>\n      <td>964981247</td>\n    </tr>\n    <tr>\n      <th>2</th>\n      <td>1</td>\n      <td>6</td>\n      <td>4.0</td>\n      <td>964982224</td>\n    </tr>\n    <tr>\n      <th>3</th>\n      <td>1</td>\n      <td>47</td>\n      <td>5.0</td>\n      <td>964983815</td>\n    </tr>\n    <tr>\n      <th>4</th>\n      <td>1</td>\n      <td>50</td>\n      <td>5.0</td>\n      <td>964982931</td>\n    </tr>\n  </tbody>\n</table>\n</div>"
     },
     "execution_count": 42,
     "metadata": {},
     "output_type": "execute_result"
    }
   ],
   "source": [
    "notas.head()"
   ],
   "metadata": {
    "collapsed": false,
    "pycharm": {
     "name": "#%%\n"
    }
   }
  },
  {
   "cell_type": "code",
   "execution_count": 43,
   "outputs": [
    {
     "data": {
      "text/plain": "0         4.0\n1         4.0\n2         4.0\n3         5.0\n4         5.0\n         ... \n100831    4.0\n100832    5.0\n100833    5.0\n100834    5.0\n100835    3.0\nName: nota, Length: 100836, dtype: float64"
     },
     "execution_count": 43,
     "metadata": {},
     "output_type": "execute_result"
    }
   ],
   "source": [
    "notas['nota']"
   ],
   "metadata": {
    "collapsed": false,
    "pycharm": {
     "name": "#%%\n"
    }
   }
  },
  {
   "cell_type": "code",
   "execution_count": 44,
   "outputs": [
    {
     "data": {
      "text/plain": "array([4. , 5. , 3. , 2. , 1. , 4.5, 3.5, 2.5, 0.5, 1.5])"
     },
     "execution_count": 44,
     "metadata": {},
     "output_type": "execute_result"
    }
   ],
   "source": [
    "notas['nota'].unique()"
   ],
   "metadata": {
    "collapsed": false,
    "pycharm": {
     "name": "#%%\n"
    }
   }
  },
  {
   "cell_type": "code",
   "execution_count": 45,
   "outputs": [
    {
     "data": {
      "text/plain": "4.0    26818\n3.0    20047\n5.0    13211\n3.5    13136\n4.5     8551\n2.0     7551\n2.5     5550\n1.0     2811\n1.5     1791\n0.5     1370\nName: nota, dtype: int64"
     },
     "execution_count": 45,
     "metadata": {},
     "output_type": "execute_result"
    }
   ],
   "source": [
    "notas['nota'].value_counts()"
   ],
   "metadata": {
    "collapsed": false,
    "pycharm": {
     "name": "#%%\n"
    }
   }
  },
  {
   "cell_type": "code",
   "execution_count": 46,
   "outputs": [
    {
     "data": {
      "text/plain": "3.501556983616962"
     },
     "execution_count": 46,
     "metadata": {},
     "output_type": "execute_result"
    }
   ],
   "source": [
    "notas['nota'].mean()"
   ],
   "metadata": {
    "collapsed": false,
    "pycharm": {
     "name": "#%%\n"
    }
   }
  },
  {
   "cell_type": "code",
   "execution_count": 47,
   "outputs": [
    {
     "data": {
      "text/plain": "0         4.0\n1         4.0\n2         4.0\n3         5.0\n4         5.0\n         ... \n100831    4.0\n100832    5.0\n100833    5.0\n100834    5.0\n100835    3.0\nName: nota, Length: 100836, dtype: float64"
     },
     "execution_count": 47,
     "metadata": {},
     "output_type": "execute_result"
    }
   ],
   "source": [
    "notas.nota"
   ],
   "metadata": {
    "collapsed": false,
    "pycharm": {
     "name": "#%%\n"
    }
   }
  },
  {
   "cell_type": "code",
   "execution_count": 48,
   "outputs": [
    {
     "data": {
      "text/plain": "<AxesSubplot:>"
     },
     "execution_count": 48,
     "metadata": {},
     "output_type": "execute_result"
    },
    {
     "data": {
      "text/plain": "<Figure size 432x288 with 1 Axes>",
      "image/png": "[encoded data removed]"
     },
     "metadata": {},
     "output_type": "display_data"
    }
   ],
   "source": [
    "notas.nota.plot()"
   ],
   "metadata": {
    "collapsed": false,
    "pycharm": {
     "name": "#%%\n"
    }
   }
  },
  {
   "cell_type": "code",
   "execution_count": 49,
   "outputs": [
    {
     "data": {
      "text/plain": "<AxesSubplot:ylabel='Frequency'>"
     },
     "execution_count": 49,
     "metadata": {},
     "output_type": "execute_result"
    },
    {
     "data": {
      "text/plain": "<Figure size 432x288 with 1 Axes>",
      "image/png": "[encoded data removed]"
     },
     "metadata": {},
     "output_type": "display_data"
    }
   ],
   "source": [
    "notas.nota.plot(kind='hist')"
   ],
   "metadata": {
    "collapsed": false,
    "pycharm": {
     "name": "#%%\n"
    }
   }
  },
  {
   "cell_type": "code",
   "execution_count": 50,
   "outputs": [
    {
     "data": {
      "text/plain": "3.5"
     },
     "execution_count": 50,
     "metadata": {},
     "output_type": "execute_result"
    }
   ],
   "source": [
    "notas.nota.median()"
   ],
   "metadata": {
    "collapsed": false,
    "pycharm": {
     "name": "#%%\n"
    }
   }
  },
  {
   "cell_type": "code",
   "execution_count": 51,
   "outputs": [
    {
     "name": "stdout",
     "output_type": "stream",
     "text": [
      "Media : 3.501556983616962\n",
      "Mediana : 3.5\n"
     ]
    }
   ],
   "source": [
    "print(\"Media :\", notas.nota.mean())\n",
    "print(\"Mediana :\", notas.nota.median())"
   ],
   "metadata": {
    "collapsed": false,
    "pycharm": {
     "name": "#%%\n"
    }
   }
  },
  {
   "cell_type": "code",
   "execution_count": 52,
   "outputs": [
    {
     "data": {
      "text/plain": "count    100836.000000\nmean          3.501557\nstd           1.042529\nmin           0.500000\n25%           3.000000\n50%           3.500000\n75%           4.000000\nmax           5.000000\nName: nota, dtype: float64"
     },
     "execution_count": 52,
     "metadata": {},
     "output_type": "execute_result"
    }
   ],
   "source": [
    "notas.nota.describe()"
   ],
   "metadata": {
    "collapsed": false,
    "pycharm": {
     "name": "#%%\n"
    }
   }
  },
  {
   "cell_type": "code",
   "execution_count": 53,
   "outputs": [],
   "source": [
    "import seaborn as sns"
   ],
   "metadata": {
    "collapsed": false,
    "pycharm": {
     "name": "#%%\n"
    }
   }
  },
  {
   "cell_type": "code",
   "execution_count": 54,
   "outputs": [
    {
     "name": "stderr",
     "output_type": "stream",
     "text": [
      "C:\\ProgramData\\Anaconda3\\lib\\site-packages\\seaborn\\_decorators.py:36: FutureWarning: Pass the following variable as a keyword arg: x. From version 0.12, the only valid positional argument will be `data`, and passing other arguments without an explicit keyword will result in an error or misinterpretation.\n",
      "  warnings.warn(\n"
     ]
    },
    {
     "data": {
      "text/plain": "<AxesSubplot:xlabel='nota'>"
     },
     "execution_count": 54,
     "metadata": {},
     "output_type": "execute_result"
    },
    {
     "data": {
      "text/plain": "<Figure size 432x288 with 1 Axes>",
      "image/png": "[encoded data removed]"
     },
     "metadata": {},
     "output_type": "display_data"
    }
   ],
   "source": [
    "sns.boxplot(notas.nota)"
   ],
   "metadata": {
    "collapsed": false,
    "pycharm": {
     "name": "#%%\n"
    }
   }
  },
  {
   "cell_type": "code",
   "execution_count": 55,
   "outputs": [
    {
     "data": {
      "text/plain": "   movieId                               title  \\\n0        1                    Toy Story (1995)   \n1        2                      Jumanji (1995)   \n2        3             Grumpier Old Men (1995)   \n3        4            Waiting to Exhale (1995)   \n4        5  Father of the Bride Part II (1995)   \n\n                                        genres  \n0  Adventure|Animation|Children|Comedy|Fantasy  \n1                   Adventure|Children|Fantasy  \n2                               Comedy|Romance  \n3                         Comedy|Drama|Romance  \n4                                       Comedy  ",
      "text/html": "<div>\n<style scoped>\n    .dataframe tbody tr th:only-of-type {\n        vertical-align: middle;\n    }\n\n    .dataframe tbody tr th {\n        vertical-align: top;\n    }\n\n    .dataframe thead th {\n        text-align: right;\n    }\n</style>\n<table border=\"1\" class=\"dataframe\">\n  <thead>\n    <tr style=\"text-align: right;\">\n      <th></th>\n      <th>movieId</th>\n      <th>title</th>\n      <th>genres</th>\n    </tr>\n  </thead>\n  <tbody>\n    <tr>\n      <th>0</th>\n      <td>1</td>\n      <td>Toy Story (1995)</td>\n      <td>Adventure|Animation|Children|Comedy|Fantasy</td>\n    </tr>\n    <tr>\n      <th>1</th>\n      <td>2</td>\n      <td>Jumanji (1995)</td>\n      <td>Adventure|Children|Fantasy</td>\n    </tr>\n    <tr>\n      <th>2</th>\n      <td>3</td>\n      <td>Grumpier Old Men (1995)</td>\n      <td>Comedy|Romance</td>\n    </tr>\n    <tr>\n      <th>3</th>\n      <td>4</td>\n      <td>Waiting to Exhale (1995)</td>\n      <td>Comedy|Drama|Romance</td>\n    </tr>\n    <tr>\n      <th>4</th>\n      <td>5</td>\n      <td>Father of the Bride Part II (1995)</td>\n      <td>Comedy</td>\n    </tr>\n  </tbody>\n</table>\n</div>"
     },
     "execution_count": 55,
     "metadata": {},
     "output_type": "execute_result"
    }
   ],
   "source": [
    "filmes = pd.read_csv('ml-latest-small/movies.csv')\n",
    "filmes.head()"
   ],
   "metadata": {
    "collapsed": false,
    "pycharm": {
     "name": "#%%\n"
    }
   }
  },
  {
   "cell_type": "code",
   "execution_count": 56,
   "outputs": [
    {
     "data": {
      "text/plain": "   usuario_ID  filme_ID  nota    momento\n0           1         1   4.0  964982703\n1           1         3   4.0  964981247\n2           1         6   4.0  964982224\n3           1        47   5.0  964983815\n4           1        50   5.0  964982931",
      "text/html": "<div>\n<style scoped>\n    .dataframe tbody tr th:only-of-type {\n        vertical-align: middle;\n    }\n\n    .dataframe tbody tr th {\n        vertical-align: top;\n    }\n\n    .dataframe thead th {\n        text-align: right;\n    }\n</style>\n<table border=\"1\" class=\"dataframe\">\n  <thead>\n    <tr style=\"text-align: right;\">\n      <th></th>\n      <th>usuario_ID</th>\n      <th>filme_ID</th>\n      <th>nota</th>\n      <th>momento</th>\n    </tr>\n  </thead>\n  <tbody>\n    <tr>\n      <th>0</th>\n      <td>1</td>\n      <td>1</td>\n      <td>4.0</td>\n      <td>964982703</td>\n    </tr>\n    <tr>\n      <th>1</th>\n      <td>1</td>\n      <td>3</td>\n      <td>4.0</td>\n      <td>964981247</td>\n    </tr>\n    <tr>\n      <th>2</th>\n      <td>1</td>\n      <td>6</td>\n      <td>4.0</td>\n      <td>964982224</td>\n    </tr>\n    <tr>\n      <th>3</th>\n      <td>1</td>\n      <td>47</td>\n      <td>5.0</td>\n      <td>964983815</td>\n    </tr>\n    <tr>\n      <th>4</th>\n      <td>1</td>\n      <td>50</td>\n      <td>5.0</td>\n      <td>964982931</td>\n    </tr>\n  </tbody>\n</table>\n</div>"
     },
     "execution_count": 56,
     "metadata": {},
     "output_type": "execute_result"
    }
   ],
   "source": [
    "notas.head()"
   ],
   "metadata": {
    "collapsed": false,
    "pycharm": {
     "name": "#%%\n"
    }
   }
  },
  {
   "cell_type": "code",
   "execution_count": 57,
   "outputs": [],
   "source": [
    "filmes.columns= [\"filme_ID\", \"titulo\", \"genero\"]"
   ],
   "metadata": {
    "collapsed": false,
    "pycharm": {
     "name": "#%%\n"
    }
   }
  },
  {
   "cell_type": "code",
   "execution_count": 58,
   "outputs": [
    {
     "data": {
      "text/plain": "       usuario_ID  filme_ID  nota     momento\n1               1         3   4.0   964981247\n561             6         3   5.0   845554296\n2276           19         3   3.0   965707636\n4930           32         3   3.0   856736172\n5875           42         3   4.0   996221045\n6316           43         3   5.0   848994405\n6430           44         3   3.0   869251910\n7423           51         3   4.0  1230932736\n8511           58         3   3.0   847719397\n9429           64         3   3.5  1161519668\n10362          68         3   2.0  1158533415\n14123          91         3   3.0  1112712323\n15300         100         3   3.5  1100183804\n15509         102         3   5.0   840635033\n18262         116         3   3.5  1337200325\n18350         117         3   3.0   844163663\n22277         150         3   3.0   854203124\n22304         151         3   3.0   855947242\n24323         169         3   5.0  1078284750\n25882         179         3   4.0   852114317\n30887         217         3   1.0   955944713\n33046         226         3   3.5  1095662861\n35582         240         3   4.0   849122858\n39032         269         3   4.0   850865480\n39061         270         3   3.0   853918793\n42116         288         3   4.0   975691635\n43169         289         3   2.5  1143424657\n43959         294         3   1.0   966596854\n45643         302         3   3.0   854472084\n46735         307         3   3.5  1186161652\n47709         308         3   0.5  1421374465\n49919         321         3   3.0   843212762\n50950         330         3   3.0  1285905545\n51894         337         3   4.0   860255784\n55396         368         3   3.0   971273951\n61842         410         3   4.0   990910830\n62296         414         3   4.0   961439278\n68657         448         3   3.0  1019128536\n71258         456         3   3.0   856883349\n72920         470         3   3.0   849370396\n75426         477         3   3.0  1200941177\n76229         480         3   2.5  1179178556\n79297         492         3   4.0   863976005\n79994         501         3   5.0   844973817\n84604         544         3   3.0   850688562\n84931         552         3   1.0  1111472953\n85292         555         3   5.0   978747454\n90421         588         3   3.0   839317471\n90519         590         3   3.0  1258416995\n91497         594         3   4.0  1108798921\n92625         599         3   1.5  1498505071\n98668         608         3   2.0  1117504413",
      "text/html": "<div>\n<style scoped>\n    .dataframe tbody tr th:only-of-type {\n        vertical-align: middle;\n    }\n\n    .dataframe tbody tr th {\n        vertical-align: top;\n    }\n\n    .dataframe thead th {\n        text-align: right;\n    }\n</style>\n<table border=\"1\" class=\"dataframe\">\n  <thead>\n    <tr style=\"text-align: right;\">\n      <th></th>\n      <th>usuario_ID</th>\n      <th>filme_ID</th>\n      <th>nota</th>\n      <th>momento</th>\n    </tr>\n  </thead>\n  <tbody>\n    <tr>\n      <th>1</th>\n      <td>1</td>\n      <td>3</td>\n      <td>4.0</td>\n      <td>964981247</td>\n    </tr>\n    <tr>\n      <th>561</th>\n      <td>6</td>\n      <td>3</td>\n      <td>5.0</td>\n      <td>845554296</td>\n    </tr>\n    <tr>\n      <th>2276</th>\n      <td>19</td>\n      <td>3</td>\n      <td>3.0</td>\n      <td>965707636</td>\n    </tr>\n    <tr>\n      <th>4930</th>\n      <td>32</td>\n      <td>3</td>\n      <td>3.0</td>\n      <td>856736172</td>\n    </tr>\n    <tr>\n      <th>5875</th>\n      <td>42</td>\n      <td>3</td>\n      <td>4.0</td>\n      <td>996221045</td>\n    </tr>\n    <tr>\n      <th>6316</th>\n      <td>43</td>\n      <td>3</td>\n      <td>5.0</td>\n      <td>848994405</td>\n    </tr>\n    <tr>\n      <th>6430</th>\n      <td>44</td>\n      <td>3</td>\n      <td>3.0</td>\n      <td>869251910</td>\n    </tr>\n    <tr>\n      <th>7423</th>\n      <td>51</td>\n      <td>3</td>\n      <td>4.0</td>\n      <td>1230932736</td>\n    </tr>\n    <tr>\n      <th>8511</th>\n      <td>58</td>\n      <td>3</td>\n      <td>3.0</td>\n      <td>847719397</td>\n    </tr>\n    <tr>\n      <th>9429</th>\n      <td>64</td>\n      <td>3</td>\n      <td>3.5</td>\n      <td>1161519668</td>\n    </tr>\n    <tr>\n      <th>10362</th>\n      <td>68</td>\n      <td>3</td>\n      <td>2.0</td>\n      <td>1158533415</td>\n    </tr>\n    <tr>\n      <th>14123</th>\n      <td>91</td>\n      <td>3</td>\n      <td>3.0</td>\n      <td>1112712323</td>\n    </tr>\n    <tr>\n      <th>15300</th>\n      <td>100</td>\n      <td>3</td>\n      <td>3.5</td>\n      <td>1100183804</td>\n    </tr>\n    <tr>\n      <th>15509</th>\n      <td>102</td>\n      <td>3</td>\n      <td>5.0</td>\n      <td>840635033</td>\n    </tr>\n    <tr>\n      <th>18262</th>\n      <td>116</td>\n      <td>3</td>\n      <td>3.5</td>\n      <td>1337200325</td>\n    </tr>\n    <tr>\n      <th>18350</th>\n      <td>117</td>\n      <td>3</td>\n      <td>3.0</td>\n      <td>844163663</td>\n    </tr>\n    <tr>\n      <th>22277</th>\n      <td>150</td>\n      <td>3</td>\n      <td>3.0</td>\n      <td>854203124</td>\n    </tr>\n    <tr>\n      <th>22304</th>\n      <td>151</td>\n      <td>3</td>\n      <td>3.0</td>\n      <td>855947242</td>\n    </tr>\n    <tr>\n      <th>24323</th>\n      <td>169</td>\n      <td>3</td>\n      <td>5.0</td>\n      <td>1078284750</td>\n    </tr>\n    <tr>\n      <th>25882</th>\n      <td>179</td>\n      <td>3</td>\n      <td>4.0</td>\n      <td>852114317</td>\n    </tr>\n    <tr>\n      <th>30887</th>\n      <td>217</td>\n      <td>3</td>\n      <td>1.0</td>\n      <td>955944713</td>\n    </tr>\n    <tr>\n      <th>33046</th>\n      <td>226</td>\n      <td>3</td>\n      <td>3.5</td>\n      <td>1095662861</td>\n    </tr>\n    <tr>\n      <th>35582</th>\n      <td>240</td>\n      <td>3</td>\n      <td>4.0</td>\n      <td>849122858</td>\n    </tr>\n    <tr>\n      <th>39032</th>\n      <td>269</td>\n      <td>3</td>\n      <td>4.0</td>\n      <td>850865480</td>\n    </tr>\n    <tr>\n      <th>39061</th>\n      <td>270</td>\n      <td>3</td>\n      <td>3.0</td>\n      <td>853918793</td>\n    </tr>\n    <tr>\n      <th>42116</th>\n      <td>288</td>\n      <td>3</td>\n      <td>4.0</td>\n      <td>975691635</td>\n    </tr>\n    <tr>\n      <th>43169</th>\n      <td>289</td>\n      <td>3</td>\n      <td>2.5</td>\n      <td>1143424657</td>\n    </tr>\n    <tr>\n      <th>43959</th>\n      <td>294</td>\n      <td>3</td>\n      <td>1.0</td>\n      <td>966596854</td>\n    </tr>\n    <tr>\n      <th>45643</th>\n      <td>302</td>\n      <td>3</td>\n      <td>3.0</td>\n      <td>854472084</td>\n    </tr>\n    <tr>\n      <th>46735</th>\n      <td>307</td>\n      <td>3</td>\n      <td>3.5</td>\n      <td>1186161652</td>\n    </tr>\n    <tr>\n      <th>47709</th>\n      <td>308</td>\n      <td>3</td>\n      <td>0.5</td>\n      <td>1421374465</td>\n    </tr>\n    <tr>\n      <th>49919</th>\n      <td>321</td>\n      <td>3</td>\n      <td>3.0</td>\n      <td>843212762</td>\n    </tr>\n    <tr>\n      <th>50950</th>\n      <td>330</td>\n      <td>3</td>\n      <td>3.0</td>\n      <td>1285905545</td>\n    </tr>\n    <tr>\n      <th>51894</th>\n      <td>337</td>\n      <td>3</td>\n      <td>4.0</td>\n      <td>860255784</td>\n    </tr>\n    <tr>\n      <th>55396</th>\n      <td>368</td>\n      <td>3</td>\n      <td>3.0</td>\n      <td>971273951</td>\n    </tr>\n    <tr>\n      <th>61842</th>\n      <td>410</td>\n      <td>3</td>\n      <td>4.0</td>\n      <td>990910830</td>\n    </tr>\n    <tr>\n      <th>62296</th>\n      <td>414</td>\n      <td>3</td>\n      <td>4.0</td>\n      <td>961439278</td>\n    </tr>\n    <tr>\n      <th>68657</th>\n      <td>448</td>\n      <td>3</td>\n      <td>3.0</td>\n      <td>1019128536</td>\n    </tr>\n    <tr>\n      <th>71258</th>\n      <td>456</td>\n      <td>3</td>\n      <td>3.0</td>\n      <td>856883349</td>\n    </tr>\n    <tr>\n      <th>72920</th>\n      <td>470</td>\n      <td>3</td>\n      <td>3.0</td>\n      <td>849370396</td>\n    </tr>\n    <tr>\n      <th>75426</th>\n      <td>477</td>\n      <td>3</td>\n      <td>3.0</td>\n      <td>1200941177</td>\n    </tr>\n    <tr>\n      <th>76229</th>\n      <td>480</td>\n      <td>3</td>\n      <td>2.5</td>\n      <td>1179178556</td>\n    </tr>\n    <tr>\n      <th>79297</th>\n      <td>492</td>\n      <td>3</td>\n      <td>4.0</td>\n      <td>863976005</td>\n    </tr>\n    <tr>\n      <th>79994</th>\n      <td>501</td>\n      <td>3</td>\n      <td>5.0</td>\n      <td>844973817</td>\n    </tr>\n    <tr>\n      <th>84604</th>\n      <td>544</td>\n      <td>3</td>\n      <td>3.0</td>\n      <td>850688562</td>\n    </tr>\n    <tr>\n      <th>84931</th>\n      <td>552</td>\n      <td>3</td>\n      <td>1.0</td>\n      <td>1111472953</td>\n    </tr>\n    <tr>\n      <th>85292</th>\n      <td>555</td>\n      <td>3</td>\n      <td>5.0</td>\n      <td>978747454</td>\n    </tr>\n    <tr>\n      <th>90421</th>\n      <td>588</td>\n      <td>3</td>\n      <td>3.0</td>\n      <td>839317471</td>\n    </tr>\n    <tr>\n      <th>90519</th>\n      <td>590</td>\n      <td>3</td>\n      <td>3.0</td>\n      <td>1258416995</td>\n    </tr>\n    <tr>\n      <th>91497</th>\n      <td>594</td>\n      <td>3</td>\n      <td>4.0</td>\n      <td>1108798921</td>\n    </tr>\n    <tr>\n      <th>92625</th>\n      <td>599</td>\n      <td>3</td>\n      <td>1.5</td>\n      <td>1498505071</td>\n    </tr>\n    <tr>\n      <th>98668</th>\n      <td>608</td>\n      <td>3</td>\n      <td>2.0</td>\n      <td>1117504413</td>\n    </tr>\n  </tbody>\n</table>\n</div>"
     },
     "execution_count": 58,
     "metadata": {},
     "output_type": "execute_result"
    }
   ],
   "source": [
    "notas.query(\"filme_ID == 3\")"
   ],
   "metadata": {
    "collapsed": false,
    "pycharm": {
     "name": "#%%\n"
    }
   }
  },
  {
   "cell_type": "markdown",
   "source": [
    "Analisando algumas notas por filmes"
   ],
   "metadata": {
    "collapsed": false,
    "pycharm": {
     "name": "#%% md\n"
    }
   }
  },
  {
   "cell_type": "code",
   "execution_count": 59,
   "outputs": [
    {
     "data": {
      "text/plain": "3.0714285714285716"
     },
     "execution_count": 59,
     "metadata": {},
     "output_type": "execute_result"
    }
   ],
   "source": [
    "notas.query(\"filme_ID == 5\").nota.mean()"
   ],
   "metadata": {
    "collapsed": false,
    "pycharm": {
     "name": "#%%\n"
    }
   }
  },
  {
   "cell_type": "code",
   "execution_count": 60,
   "outputs": [
    {
     "data": {
      "text/plain": "3.4318181818181817"
     },
     "execution_count": 60,
     "metadata": {},
     "output_type": "execute_result"
    }
   ],
   "source": [
    "notas.query(\"filme_ID == 2\").nota.mean()"
   ],
   "metadata": {
    "collapsed": false,
    "pycharm": {
     "name": "#%%\n"
    }
   }
  },
  {
   "cell_type": "code",
   "execution_count": 61,
   "outputs": [],
   "source": [
    "media_por_filmes = notas.groupby(\"filme_ID\").mean().nota"
   ],
   "metadata": {
    "collapsed": false,
    "pycharm": {
     "name": "#%%\n"
    }
   }
  },
  {
   "cell_type": "code",
   "execution_count": 62,
   "outputs": [
    {
     "data": {
      "text/plain": "filme_ID\n1         3.920930\n2         3.431818\n3         3.259615\n4         2.357143\n5         3.071429\n            ...   \n193581    4.000000\n193583    3.500000\n193585    3.500000\n193587    3.500000\n193609    4.000000\nName: nota, Length: 9724, dtype: float64"
     },
     "execution_count": 62,
     "metadata": {},
     "output_type": "execute_result"
    }
   ],
   "source": [
    "media_por_filmes"
   ],
   "metadata": {
    "collapsed": false,
    "pycharm": {
     "name": "#%%\n"
    }
   }
  },
  {
   "cell_type": "code",
   "execution_count": 63,
   "outputs": [
    {
     "data": {
      "text/plain": "<AxesSubplot:ylabel='Frequency'>"
     },
     "execution_count": 63,
     "metadata": {},
     "output_type": "execute_result"
    },
    {
     "data": {
      "text/plain": "<Figure size 432x288 with 1 Axes>",
      "image/png": "[encoded data removed]"
     },
     "metadata": {},
     "output_type": "display_data"
    }
   ],
   "source": [
    "media_por_filmes.plot(kind='hist')"
   ],
   "metadata": {
    "collapsed": false,
    "pycharm": {
     "name": "#%%\n"
    }
   }
  },
  {
   "cell_type": "code",
   "execution_count": 64,
   "outputs": [
    {
     "name": "stderr",
     "output_type": "stream",
     "text": [
      "C:\\ProgramData\\Anaconda3\\lib\\site-packages\\seaborn\\_decorators.py:36: FutureWarning: Pass the following variable as a keyword arg: x. From version 0.12, the only valid positional argument will be `data`, and passing other arguments without an explicit keyword will result in an error or misinterpretation.\n",
      "  warnings.warn(\n"
     ]
    },
    {
     "data": {
      "text/plain": "<AxesSubplot:xlabel='nota'>"
     },
     "execution_count": 64,
     "metadata": {},
     "output_type": "execute_result"
    },
    {
     "data": {
      "text/plain": "<Figure size 432x288 with 1 Axes>",
      "image/png": "[encoded data removed]"
     },
     "metadata": {},
     "output_type": "display_data"
    }
   ],
   "source": [
    "sns.boxplot(media_por_filmes)"
   ],
   "metadata": {
    "collapsed": false,
    "pycharm": {
     "name": "#%%\n"
    }
   }
  },
  {
   "cell_type": "code",
   "execution_count": 65,
   "outputs": [
    {
     "data": {
      "text/plain": "count    9724.000000\nmean        3.262448\nstd         0.869874\nmin         0.500000\n25%         2.800000\n50%         3.416667\n75%         3.911765\nmax         5.000000\nName: nota, dtype: float64"
     },
     "execution_count": 65,
     "metadata": {},
     "output_type": "execute_result"
    }
   ],
   "source": [
    "media_por_filmes.describe()"
   ],
   "metadata": {
    "collapsed": false,
    "pycharm": {
     "name": "#%%\n"
    }
   }
  },
  {
   "cell_type": "code",
   "execution_count": 66,
   "outputs": [
    {
     "name": "stderr",
     "output_type": "stream",
     "text": [
      "C:\\ProgramData\\Anaconda3\\lib\\site-packages\\seaborn\\distributions.py:2619: FutureWarning: `distplot` is a deprecated function and will be removed in a future version. Please adapt your code to use either `displot` (a figure-level function with similar flexibility) or `histplot` (an axes-level function for histograms).\n",
      "  warnings.warn(msg, FutureWarning)\n"
     ]
    },
    {
     "data": {
      "text/plain": "<AxesSubplot:xlabel='nota', ylabel='Density'>"
     },
     "execution_count": 66,
     "metadata": {},
     "output_type": "execute_result"
    },
    {
     "data": {
      "text/plain": "<Figure size 432x288 with 1 Axes>",
      "image/png": "[encoded data removed]"
     },
     "metadata": {},
     "output_type": "display_data"
    }
   ],
   "source": [
    "sns.distplot(media_por_filmes)"
   ],
   "metadata": {
    "collapsed": false,
    "pycharm": {
     "name": "#%%\n"
    }
   }
  },
  {
   "cell_type": "code",
   "execution_count": 67,
   "outputs": [],
   "source": [
    "import matplotlib.pyplot as plt"
   ],
   "metadata": {
    "collapsed": false,
    "pycharm": {
     "name": "#%%\n"
    }
   }
  },
  {
   "cell_type": "code",
   "execution_count": 68,
   "outputs": [
    {
     "data": {
      "text/plain": "Text(0.5, 1.0, 'Histogramas das medias dos filmes')"
     },
     "execution_count": 68,
     "metadata": {},
     "output_type": "execute_result"
    },
    {
     "data": {
      "text/plain": "<Figure size 432x288 with 1 Axes>",
      "image/png": "[encoded data removed]"
     },
     "metadata": {},
     "output_type": "display_data"
    }
   ],
   "source": [
    "plt.hist(media_por_filmes)\n",
    "plt.title(\"Histogramas das medias dos filmes\")"
   ],
   "metadata": {
    "collapsed": false,
    "pycharm": {
     "name": "#%%\n"
    }
   }
  },
  {
   "cell_type": "code",
   "execution_count": 69,
   "outputs": [
    {
     "data": {
      "text/plain": "<AxesSubplot:ylabel='nota'>"
     },
     "execution_count": 69,
     "metadata": {},
     "output_type": "execute_result"
    },
    {
     "data": {
      "text/plain": "<Figure size 432x288 with 1 Axes>",
      "image/png": "[encoded data removed]"
     },
     "metadata": {},
     "output_type": "display_data"
    }
   ],
   "source": [
    "sns.boxplot(y=media_por_filmes)"
   ],
   "metadata": {
    "collapsed": false,
    "pycharm": {
     "name": "#%%\n"
    }
   }
  },
  {
   "cell_type": "code",
   "execution_count": 70,
   "outputs": [],
   "source": [
    "tmbd = pd.read_csv(\"archive/tmdb_5000_movies.csv\")"
   ],
   "metadata": {
    "collapsed": false,
    "pycharm": {
     "name": "#%%\n"
    }
   }
  },
  {
   "cell_type": "code",
   "execution_count": 71,
   "outputs": [
    {
     "data": {
      "text/plain": "      budget                                             genres  \\\n0  237000000  [{\"id\": 28, \"name\": \"Action\"}, {\"id\": 12, \"nam...   \n1  300000000  [{\"id\": 12, \"name\": \"Adventure\"}, {\"id\": 14, \"...   \n2  245000000  [{\"id\": 28, \"name\": \"Action\"}, {\"id\": 12, \"nam...   \n3  250000000  [{\"id\": 28, \"name\": \"Action\"}, {\"id\": 80, \"nam...   \n4  260000000  [{\"id\": 28, \"name\": \"Action\"}, {\"id\": 12, \"nam...   \n\n                                       homepage      id  \\\n0                   http://www.avatarmovie.com/   19995   \n1  http://disney.go.com/disneypictures/pirates/     285   \n2   http://www.sonypictures.com/movies/spectre/  206647   \n3            http://www.thedarkknightrises.com/   49026   \n4          http://movies.disney.com/john-carter   49529   \n\n                                            keywords original_language  \\\n0  [{\"id\": 1463, \"name\": \"culture clash\"}, {\"id\":...                en   \n1  [{\"id\": 270, \"name\": \"ocean\"}, {\"id\": 726, \"na...                en   \n2  [{\"id\": 470, \"name\": \"spy\"}, {\"id\": 818, \"name...                en   \n3  [{\"id\": 849, \"name\": \"dc comics\"}, {\"id\": 853,...                en   \n4  [{\"id\": 818, \"name\": \"based on novel\"}, {\"id\":...                en   \n\n                             original_title  \\\n0                                    Avatar   \n1  Pirates of the Caribbean: At World's End   \n2                                   Spectre   \n3                     The Dark Knight Rises   \n4                               John Carter   \n\n                                            overview  popularity  \\\n0  In the 22nd century, a paraplegic Marine is di...  150.437577   \n1  Captain Barbossa, long believed to be dead, ha...  139.082615   \n2  A cryptic message from Bond’s past sends him o...  107.376788   \n3  Following the death of District Attorney Harve...  112.312950   \n4  John Carter is a war-weary, former military ca...   43.926995   \n\n                                production_companies  \\\n0  [{\"name\": \"Ingenious Film Partners\", \"id\": 289...   \n1  [{\"name\": \"Walt Disney Pictures\", \"id\": 2}, {\"...   \n2  [{\"name\": \"Columbia Pictures\", \"id\": 5}, {\"nam...   \n3  [{\"name\": \"Legendary Pictures\", \"id\": 923}, {\"...   \n4        [{\"name\": \"Walt Disney Pictures\", \"id\": 2}]   \n\n                                production_countries release_date     revenue  \\\n0  [{\"iso_3166_1\": \"US\", \"name\": \"United States o...   2009-12-10  2787965087   \n1  [{\"iso_3166_1\": \"US\", \"name\": \"United States o...   2007-05-19   961000000   \n2  [{\"iso_3166_1\": \"GB\", \"name\": \"United Kingdom\"...   2015-10-26   880674609   \n3  [{\"iso_3166_1\": \"US\", \"name\": \"United States o...   2012-07-16  1084939099   \n4  [{\"iso_3166_1\": \"US\", \"name\": \"United States o...   2012-03-07   284139100   \n\n   runtime                                   spoken_languages    status  \\\n0    162.0  [{\"iso_639_1\": \"en\", \"name\": \"English\"}, {\"iso...  Released   \n1    169.0           [{\"iso_639_1\": \"en\", \"name\": \"English\"}]  Released   \n2    148.0  [{\"iso_639_1\": \"fr\", \"name\": \"Fran\\u00e7ais\"},...  Released   \n3    165.0           [{\"iso_639_1\": \"en\", \"name\": \"English\"}]  Released   \n4    132.0           [{\"iso_639_1\": \"en\", \"name\": \"English\"}]  Released   \n\n                                          tagline  \\\n0                     Enter the World of Pandora.   \n1  At the end of the world, the adventure begins.   \n2                           A Plan No One Escapes   \n3                                 The Legend Ends   \n4            Lost in our world, found in another.   \n\n                                      title  vote_average  vote_count  \n0                                    Avatar           7.2       11800  \n1  Pirates of the Caribbean: At World's End           6.9        4500  \n2                                   Spectre           6.3        4466  \n3                     The Dark Knight Rises           7.6        9106  \n4                               John Carter           6.1        2124  ",
      "text/html": "<div>\n<style scoped>\n    .dataframe tbody tr th:only-of-type {\n        vertical-align: middle;\n    }\n\n    .dataframe tbody tr th {\n        vertical-align: top;\n    }\n\n    .dataframe thead th {\n        text-align: right;\n    }\n</style>\n<table border=\"1\" class=\"dataframe\">\n  <thead>\n    <tr style=\"text-align: right;\">\n      <th></th>\n      <th>budget</th>\n      <th>genres</th>\n      <th>homepage</th>\n      <th>id</th>\n      <th>keywords</th>\n      <th>original_language</th>\n      <th>original_title</th>\n      <th>overview</th>\n      <th>popularity</th>\n      <th>production_companies</th>\n      <th>production_countries</th>\n      <th>release_date</th>\n      <th>revenue</th>\n      <th>runtime</th>\n      <th>spoken_languages</th>\n      <th>status</th>\n      <th>tagline</th>\n      <th>title</th>\n      <th>vote_average</th>\n      <th>vote_count</th>\n    </tr>\n  </thead>\n  <tbody>\n    <tr>\n      <th>0</th>\n      <td>237000000</td>\n      <td>[{\"id\": 28, \"name\": \"Action\"}, {\"id\": 12, \"nam...</td>\n      <td>http://www.avatarmovie.com/</td>\n      <td>19995</td>\n      <td>[{\"id\": 1463, \"name\": \"culture clash\"}, {\"id\":...</td>\n      <td>en</td>\n      <td>Avatar</td>\n      <td>In the 22nd century, a paraplegic Marine is di...</td>\n      <td>150.437577</td>\n      <td>[{\"name\": \"Ingenious Film Partners\", \"id\": 289...</td>\n      <td>[{\"iso_3166_1\": \"US\", \"name\": \"United States o...</td>\n      <td>2009-12-10</td>\n      <td>2787965087</td>\n      <td>162.0</td>\n      <td>[{\"iso_639_1\": \"en\", \"name\": \"English\"}, {\"iso...</td>\n      <td>Released</td>\n      <td>Enter the World of Pandora.</td>\n      <td>Avatar</td>\n      <td>7.2</td>\n      <td>11800</td>\n    </tr>\n    <tr>\n      <th>1</th>\n      <td>300000000</td>\n      <td>[{\"id\": 12, \"name\": \"Adventure\"}, {\"id\": 14, \"...</td>\n      <td>http://disney.go.com/disneypictures/pirates/</td>\n      <td>285</td>\n      <td>[{\"id\": 270, \"name\": \"ocean\"}, {\"id\": 726, \"na...</td>\n      <td>en</td>\n      <td>Pirates of the Caribbean: At World's End</td>\n      <td>Captain Barbossa, long believed to be dead, ha...</td>\n      <td>139.082615</td>\n      <td>[{\"name\": \"Walt Disney Pictures\", \"id\": 2}, {\"...</td>\n      <td>[{\"iso_3166_1\": \"US\", \"name\": \"United States o...</td>\n      <td>2007-05-19</td>\n      <td>961000000</td>\n      <td>169.0</td>\n      <td>[{\"iso_639_1\": \"en\", \"name\": \"English\"}]</td>\n      <td>Released</td>\n      <td>At the end of the world, the adventure begins.</td>\n      <td>Pirates of the Caribbean: At World's End</td>\n      <td>6.9</td>\n      <td>4500</td>\n    </tr>\n    <tr>\n      <th>2</th>\n      <td>245000000</td>\n      <td>[{\"id\": 28, \"name\": \"Action\"}, {\"id\": 12, \"nam...</td>\n      <td>http://www.sonypictures.com/movies/spectre/</td>\n      <td>206647</td>\n      <td>[{\"id\": 470, \"name\": \"spy\"}, {\"id\": 818, \"name...</td>\n      <td>en</td>\n      <td>Spectre</td>\n      <td>A cryptic message from Bond’s past sends him o...</td>\n      <td>107.376788</td>\n      <td>[{\"name\": \"Columbia Pictures\", \"id\": 5}, {\"nam...</td>\n      <td>[{\"iso_3166_1\": \"GB\", \"name\": \"United Kingdom\"...</td>\n      <td>2015-10-26</td>\n      <td>880674609</td>\n      <td>148.0</td>\n      <td>[{\"iso_639_1\": \"fr\", \"name\": \"Fran\\u00e7ais\"},...</td>\n      <td>Released</td>\n      <td>A Plan No One Escapes</td>\n      <td>Spectre</td>\n      <td>6.3</td>\n      <td>4466</td>\n    </tr>\n    <tr>\n      <th>3</th>\n      <td>250000000</td>\n      <td>[{\"id\": 28, \"name\": \"Action\"}, {\"id\": 80, \"nam...</td>\n      <td>http://www.thedarkknightrises.com/</td>\n      <td>49026</td>\n      <td>[{\"id\": 849, \"name\": \"dc comics\"}, {\"id\": 853,...</td>\n      <td>en</td>\n      <td>The Dark Knight Rises</td>\n      <td>Following the death of District Attorney Harve...</td>\n      <td>112.312950</td>\n      <td>[{\"name\": \"Legendary Pictures\", \"id\": 923}, {\"...</td>\n      <td>[{\"iso_3166_1\": \"US\", \"name\": \"United States o...</td>\n      <td>2012-07-16</td>\n      <td>1084939099</td>\n      <td>165.0</td>\n      <td>[{\"iso_639_1\": \"en\", \"name\": \"English\"}]</td>\n      <td>Released</td>\n      <td>The Legend Ends</td>\n      <td>The Dark Knight Rises</td>\n      <td>7.6</td>\n      <td>9106</td>\n    </tr>\n    <tr>\n      <th>4</th>\n      <td>260000000</td>\n      <td>[{\"id\": 28, \"name\": \"Action\"}, {\"id\": 12, \"nam...</td>\n      <td>http://movies.disney.com/john-carter</td>\n      <td>49529</td>\n      <td>[{\"id\": 818, \"name\": \"based on novel\"}, {\"id\":...</td>\n      <td>en</td>\n      <td>John Carter</td>\n      <td>John Carter is a war-weary, former military ca...</td>\n      <td>43.926995</td>\n      <td>[{\"name\": \"Walt Disney Pictures\", \"id\": 2}]</td>\n      <td>[{\"iso_3166_1\": \"US\", \"name\": \"United States o...</td>\n      <td>2012-03-07</td>\n      <td>284139100</td>\n      <td>132.0</td>\n      <td>[{\"iso_639_1\": \"en\", \"name\": \"English\"}]</td>\n      <td>Released</td>\n      <td>Lost in our world, found in another.</td>\n      <td>John Carter</td>\n      <td>6.1</td>\n      <td>2124</td>\n    </tr>\n  </tbody>\n</table>\n</div>"
     },
     "execution_count": 71,
     "metadata": {},
     "output_type": "execute_result"
    }
   ],
   "source": [
    "tmbd.head()"
   ],
   "metadata": {
    "collapsed": false,
    "pycharm": {
     "name": "#%%\n"
    }
   }
  },
  {
   "cell_type": "code",
   "execution_count": 72,
   "outputs": [
    {
     "data": {
      "text/plain": "array(['en', 'ja', 'fr', 'zh', 'es', 'de', 'hi', 'ru', 'ko', 'te', 'cn',\n       'it', 'nl', 'ta', 'sv', 'th', 'da', 'xx', 'hu', 'cs', 'pt', 'is',\n       'tr', 'nb', 'af', 'pl', 'he', 'ar', 'vi', 'ky', 'id', 'ro', 'fa',\n       'no', 'sl', 'ps', 'el'], dtype=object)"
     },
     "execution_count": 72,
     "metadata": {},
     "output_type": "execute_result"
    }
   ],
   "source": [
    "tmbd.original_language.unique()"
   ],
   "metadata": {
    "collapsed": false,
    "pycharm": {
     "name": "#%%\n"
    }
   }
  },
  {
   "cell_type": "code",
   "execution_count": 77,
   "outputs": [],
   "source": [
    "lang = tmbd.original_language.value_counts()"
   ],
   "metadata": {
    "collapsed": false,
    "pycharm": {
     "name": "#%%\n"
    }
   }
  },
  {
   "cell_type": "code",
   "execution_count": 78,
   "outputs": [
    {
     "data": {
      "text/plain": "en    4505\nfr      70\nes      32\nzh      27\nde      27\nhi      19\nja      16\nit      14\ncn      12\nru      11\nko      11\npt       9\nda       7\nsv       5\nnl       4\nfa       4\nth       3\nhe       3\nta       2\ncs       2\nro       2\nid       2\nar       2\nvi       1\nsl       1\nps       1\nno       1\nky       1\nhu       1\npl       1\naf       1\nnb       1\ntr       1\nis       1\nxx       1\nte       1\nel       1\nName: original_language, dtype: int64"
     },
     "execution_count": 78,
     "metadata": {},
     "output_type": "execute_result"
    }
   ],
   "source": [
    "lang"
   ],
   "metadata": {
    "collapsed": false,
    "pycharm": {
     "name": "#%%\n"
    }
   }
  },
  {
   "cell_type": "code",
   "execution_count": 79,
   "outputs": [
    {
     "data": {
      "text/plain": "Index(['en', 'fr', 'es', 'zh', 'de', 'hi', 'ja', 'it', 'cn', 'ru', 'ko', 'pt',\n       'da', 'sv', 'nl', 'fa', 'th', 'he', 'ta', 'cs', 'ro', 'id', 'ar', 'vi',\n       'sl', 'ps', 'no', 'ky', 'hu', 'pl', 'af', 'nb', 'tr', 'is', 'xx', 'te',\n       'el'],\n      dtype='object')"
     },
     "execution_count": 79,
     "metadata": {},
     "output_type": "execute_result"
    }
   ],
   "source": [
    "lang.index"
   ],
   "metadata": {
    "collapsed": false,
    "pycharm": {
     "name": "#%%\n"
    }
   }
  },
  {
   "cell_type": "code",
   "execution_count": 80,
   "outputs": [
    {
     "data": {
      "text/plain": "array([4505,   70,   32,   27,   27,   19,   16,   14,   12,   11,   11,\n          9,    7,    5,    4,    4,    3,    3,    2,    2,    2,    2,\n          2,    1,    1,    1,    1,    1,    1,    1,    1,    1,    1,\n          1,    1,    1,    1], dtype=int64)"
     },
     "execution_count": 80,
     "metadata": {},
     "output_type": "execute_result"
    }
   ],
   "source": [
    "lang.values"
   ],
   "metadata": {
    "collapsed": false,
    "pycharm": {
     "name": "#%%\n"
    }
   }
  },
  {
   "cell_type": "code",
   "execution_count": 81,
   "outputs": [
    {
     "data": {
      "text/plain": "    original_language\nen               4505\nfr                 70\nes                 32\nzh                 27\nde                 27\nhi                 19\nja                 16\nit                 14\ncn                 12\nru                 11\nko                 11\npt                  9\nda                  7\nsv                  5\nnl                  4\nfa                  4\nth                  3\nhe                  3\nta                  2\ncs                  2\nro                  2\nid                  2\nar                  2\nvi                  1\nsl                  1\nps                  1\nno                  1\nky                  1\nhu                  1\npl                  1\naf                  1\nnb                  1\ntr                  1\nis                  1\nxx                  1\nte                  1\nel                  1",
      "text/html": "<div>\n<style scoped>\n    .dataframe tbody tr th:only-of-type {\n        vertical-align: middle;\n    }\n\n    .dataframe tbody tr th {\n        vertical-align: top;\n    }\n\n    .dataframe thead th {\n        text-align: right;\n    }\n</style>\n<table border=\"1\" class=\"dataframe\">\n  <thead>\n    <tr style=\"text-align: right;\">\n      <th></th>\n      <th>original_language</th>\n    </tr>\n  </thead>\n  <tbody>\n    <tr>\n      <th>en</th>\n      <td>4505</td>\n    </tr>\n    <tr>\n      <th>fr</th>\n      <td>70</td>\n    </tr>\n    <tr>\n      <th>es</th>\n      <td>32</td>\n    </tr>\n    <tr>\n      <th>zh</th>\n      <td>27</td>\n    </tr>\n    <tr>\n      <th>de</th>\n      <td>27</td>\n    </tr>\n    <tr>\n      <th>hi</th>\n      <td>19</td>\n    </tr>\n    <tr>\n      <th>ja</th>\n      <td>16</td>\n    </tr>\n    <tr>\n      <th>it</th>\n      <td>14</td>\n    </tr>\n    <tr>\n      <th>cn</th>\n      <td>12</td>\n    </tr>\n    <tr>\n      <th>ru</th>\n      <td>11</td>\n    </tr>\n    <tr>\n      <th>ko</th>\n      <td>11</td>\n    </tr>\n    <tr>\n      <th>pt</th>\n      <td>9</td>\n    </tr>\n    <tr>\n      <th>da</th>\n      <td>7</td>\n    </tr>\n    <tr>\n      <th>sv</th>\n      <td>5</td>\n    </tr>\n    <tr>\n      <th>nl</th>\n      <td>4</td>\n    </tr>\n    <tr>\n      <th>fa</th>\n      <td>4</td>\n    </tr>\n    <tr>\n      <th>th</th>\n      <td>3</td>\n    </tr>\n    <tr>\n      <th>he</th>\n      <td>3</td>\n    </tr>\n    <tr>\n      <th>ta</th>\n      <td>2</td>\n    </tr>\n    <tr>\n      <th>cs</th>\n      <td>2</td>\n    </tr>\n    <tr>\n      <th>ro</th>\n      <td>2</td>\n    </tr>\n    <tr>\n      <th>id</th>\n      <td>2</td>\n    </tr>\n    <tr>\n      <th>ar</th>\n      <td>2</td>\n    </tr>\n    <tr>\n      <th>vi</th>\n      <td>1</td>\n    </tr>\n    <tr>\n      <th>sl</th>\n      <td>1</td>\n    </tr>\n    <tr>\n      <th>ps</th>\n      <td>1</td>\n    </tr>\n    <tr>\n      <th>no</th>\n      <td>1</td>\n    </tr>\n    <tr>\n      <th>ky</th>\n      <td>1</td>\n    </tr>\n    <tr>\n      <th>hu</th>\n      <td>1</td>\n    </tr>\n    <tr>\n      <th>pl</th>\n      <td>1</td>\n    </tr>\n    <tr>\n      <th>af</th>\n      <td>1</td>\n    </tr>\n    <tr>\n      <th>nb</th>\n      <td>1</td>\n    </tr>\n    <tr>\n      <th>tr</th>\n      <td>1</td>\n    </tr>\n    <tr>\n      <th>is</th>\n      <td>1</td>\n    </tr>\n    <tr>\n      <th>xx</th>\n      <td>1</td>\n    </tr>\n    <tr>\n      <th>te</th>\n      <td>1</td>\n    </tr>\n    <tr>\n      <th>el</th>\n      <td>1</td>\n    </tr>\n  </tbody>\n</table>\n</div>"
     },
     "execution_count": 81,
     "metadata": {},
     "output_type": "execute_result"
    }
   ],
   "source": [
    "lang.to_frame()"
   ],
   "metadata": {
    "collapsed": false,
    "pycharm": {
     "name": "#%%\n"
    }
   }
  },
  {
   "cell_type": "code",
   "execution_count": 86,
   "outputs": [],
   "source": [
    "count_lang = lang.to_frame().reset_index()"
   ],
   "metadata": {
    "collapsed": false,
    "pycharm": {
     "name": "#%%\n"
    }
   }
  },
  {
   "cell_type": "code",
   "execution_count": 93,
   "outputs": [],
   "source": [
    "count_lang.columns = [\"original_languages\", \"total\"]"
   ],
   "metadata": {
    "collapsed": false,
    "pycharm": {
     "name": "#%%\n"
    }
   }
  },
  {
   "cell_type": "code",
   "execution_count": 94,
   "outputs": [
    {
     "data": {
      "text/plain": "  original_languages  total\n0                 en   4505\n1                 fr     70\n2                 es     32\n3                 zh     27\n4                 de     27",
      "text/html": "<div>\n<style scoped>\n    .dataframe tbody tr th:only-of-type {\n        vertical-align: middle;\n    }\n\n    .dataframe tbody tr th {\n        vertical-align: top;\n    }\n\n    .dataframe thead th {\n        text-align: right;\n    }\n</style>\n<table border=\"1\" class=\"dataframe\">\n  <thead>\n    <tr style=\"text-align: right;\">\n      <th></th>\n      <th>original_languages</th>\n      <th>total</th>\n    </tr>\n  </thead>\n  <tbody>\n    <tr>\n      <th>0</th>\n      <td>en</td>\n      <td>4505</td>\n    </tr>\n    <tr>\n      <th>1</th>\n      <td>fr</td>\n      <td>70</td>\n    </tr>\n    <tr>\n      <th>2</th>\n      <td>es</td>\n      <td>32</td>\n    </tr>\n    <tr>\n      <th>3</th>\n      <td>zh</td>\n      <td>27</td>\n    </tr>\n    <tr>\n      <th>4</th>\n      <td>de</td>\n      <td>27</td>\n    </tr>\n  </tbody>\n</table>\n</div>"
     },
     "execution_count": 94,
     "metadata": {},
     "output_type": "execute_result"
    }
   ],
   "source": [
    "count_lang.head()"
   ],
   "metadata": {
    "collapsed": false,
    "pycharm": {
     "name": "#%%\n"
    }
   }
  },
  {
   "cell_type": "code",
   "execution_count": 95,
   "outputs": [
    {
     "data": {
      "text/plain": "<AxesSubplot:xlabel='original_languages', ylabel='total'>"
     },
     "execution_count": 95,
     "metadata": {},
     "output_type": "execute_result"
    },
    {
     "data": {
      "text/plain": "<Figure size 432x288 with 1 Axes>",
      "image/png": "[encoded data removed]"
     },
     "metadata": {},
     "output_type": "display_data"
    }
   ],
   "source": [
    "sns.barplot(x = \"original_languages\", y = \"total\", data = count_lang)"
   ],
   "metadata": {
    "collapsed": false,
    "pycharm": {
     "name": "#%%\n"
    }
   }
  },
  {
   "cell_type": "code",
   "execution_count": 97,
   "outputs": [
    {
     "data": {
      "text/plain": "<seaborn.axisgrid.FacetGrid at 0x2972c2f7fa0>"
     },
     "execution_count": 97,
     "metadata": {},
     "output_type": "execute_result"
    },
    {
     "data": {
      "text/plain": "<Figure size 360x360 with 1 Axes>",
      "image/png": "[encoded data removed]"
     },
     "metadata": {},
     "output_type": "display_data"
    }
   ],
   "source": [
    "sns.catplot(x=\"original_language\",kind=\"count\" ,data=tmbd)"
   ],
   "metadata": {
    "collapsed": false,
    "pycharm": {
     "name": "#%%\n"
    }
   }
  },
  {
   "cell_type": "code",
   "execution_count": 100,
   "outputs": [
    {
     "data": {
      "text/plain": "([<matplotlib.patches.Wedge at 0x2972f474880>,\n  <matplotlib.patches.Wedge at 0x2972f474c40>,\n  <matplotlib.patches.Wedge at 0x2972f47d160>,\n  <matplotlib.patches.Wedge at 0x2972f47d640>,\n  <matplotlib.patches.Wedge at 0x2972f47db20>,\n  <matplotlib.patches.Wedge at 0x2972f488040>,\n  <matplotlib.patches.Wedge at 0x2972f488520>,\n  <matplotlib.patches.Wedge at 0x2972f4889a0>,\n  <matplotlib.patches.Wedge at 0x2972f488e80>,\n  <matplotlib.patches.Wedge at 0x2972f4933a0>,\n  <matplotlib.patches.Wedge at 0x2972f474850>,\n  <matplotlib.patches.Wedge at 0x2972f493d60>,\n  <matplotlib.patches.Wedge at 0x2972f49e280>,\n  <matplotlib.patches.Wedge at 0x2972f49e760>,\n  <matplotlib.patches.Wedge at 0x2972f49ec40>,\n  <matplotlib.patches.Wedge at 0x2972f4a9160>,\n  <matplotlib.patches.Wedge at 0x2972f4a9640>,\n  <matplotlib.patches.Wedge at 0x2972f4a9b20>,\n  <matplotlib.patches.Wedge at 0x2972f4b7040>,\n  <matplotlib.patches.Wedge at 0x2972f4b7520>,\n  <matplotlib.patches.Wedge at 0x2972f4b7a00>,\n  <matplotlib.patches.Wedge at 0x2972f4b7ee0>,\n  <matplotlib.patches.Wedge at 0x2972f4c3400>,\n  <matplotlib.patches.Wedge at 0x2972f4c38e0>,\n  <matplotlib.patches.Wedge at 0x2972f4c3dc0>,\n  <matplotlib.patches.Wedge at 0x2972f4cf2e0>,\n  <matplotlib.patches.Wedge at 0x2972f4cf7f0>,\n  <matplotlib.patches.Wedge at 0x2972f4cfcd0>,\n  <matplotlib.patches.Wedge at 0x2972f4dd1f0>,\n  <matplotlib.patches.Wedge at 0x2972f4dd6d0>,\n  <matplotlib.patches.Wedge at 0x2972f4ddbb0>,\n  <matplotlib.patches.Wedge at 0x2972f4e70d0>,\n  <matplotlib.patches.Wedge at 0x2972f4e75b0>,\n  <matplotlib.patches.Wedge at 0x2972f4e7a90>,\n  <matplotlib.patches.Wedge at 0x2972f4e7f70>,\n  <matplotlib.patches.Wedge at 0x2972f4f5490>,\n  <matplotlib.patches.Wedge at 0x2972f4f5970>],\n [Text(-1.0791697536499925, 0.2130554923183512, 'en'),\n  Text(1.0355355017029462, -0.3710339940124459, 'fr'),\n  Text(1.0579676486019882, -0.3011718023181785, 'es'),\n  Text(1.0687996606645356, -0.26012936274741094, 'zh'),\n  Text(1.0773191105706255, -0.22222406260195313, 'de'),\n  Text(1.0835167978583342, -0.18971386021801853, 'hi'),\n  Text(1.0875756432724297, -0.16486121484618815, 'ja'),\n  Text(1.0906010773146022, -0.14348968659882622, 'it'),\n  Text(1.092883487371409, -0.12492270822755745, 'cn'),\n  Text(1.0946390911069936, -0.10846778425161549, 'ru'),\n  Text(1.0960865535188649, -0.09270527058984593, 'ko'),\n  Text(1.0972054830031333, -0.07835896928789601, 'pt'),\n  Text(1.097965443340663, -0.06687215586282344, 'da'),\n  Text(1.0984565010300316, -0.05825217030171998, 'sv'),\n  Text(1.0987803851616647, -0.0517847968421653, 'nl'),\n  Text(1.0990363161210686, -0.04603450713357274, 'fa'),\n  Text(1.0992355702663055, -0.04100196411527794, 'th'),\n  Text(1.0993880184234357, -0.03668766750546649, 'he'),\n  Text(1.0995021239019234, -0.033091985965784415, 'ta'),\n  Text(1.099584941078101, -0.03021518416739545, 'cs'),\n  Text(1.0996602312343366, -0.027338175536150495, 'ro'),\n  Text(1.099727993855245, -0.024460979766119193, 'id'),\n  Text(1.0997882284769684, -0.02158361655264929, 'ar'),\n  Text(1.0998284639438185, -0.01942549610642471, 'vi'),\n  Text(1.0998529348820232, -0.01798670707495573, 'sl'),\n  Text(1.0998755236058106, -0.01654788726224571, 'ps'),\n  Text(1.0998962300765243, -0.01510903913059323, 'no'),\n  Text(1.0999150542587282, -0.013670165142345335, 'ky'),\n  Text(1.0999319961202083, -0.012231267759896247, 'hu'),\n  Text(1.0999470556319713, -0.01079234944567632, 'pl'),\n  Text(1.099960232768245, -0.00935341266215563, 'af'),\n  Text(1.0999715275064792, -0.007914459871831963, 'nb'),\n  Text(1.0999809398273452, -0.006475493537234394, 'tr'),\n  Text(1.0999884697147349, -0.005036516120911278, 'is'),\n  Text(1.0999941171557621, -0.0035975300854338356, 'xx'),\n  Text(1.0999978821407626, -0.0021585378933851127, 'te'),\n  Text(1.0999997646632929, -0.0007195420073586872, 'el')])"
     },
     "execution_count": 100,
     "metadata": {},
     "output_type": "execute_result"
    },
    {
     "data": {
      "text/plain": "<Figure size 432x288 with 1 Axes>",
      "image/png": "[encoded data removed]"
     },
     "metadata": {},
     "output_type": "display_data"
    }
   ],
   "source": [
    "plt.pie(count_lang.total, labels=count_lang.original_languages)"
   ],
   "metadata": {
    "collapsed": false,
    "pycharm": {
     "name": "#%%\n"
    }
   }
  },
  {
   "cell_type": "code",
   "execution_count": 101,
   "outputs": [],
   "source": [
    "count_lang = tmbd.original_language.value_counts()"
   ],
   "metadata": {
    "collapsed": false,
    "pycharm": {
     "name": "#%%\n"
    }
   }
  },
  {
   "cell_type": "code",
   "execution_count": 102,
   "outputs": [
    {
     "data": {
      "text/plain": "en    4505\nfr      70\nes      32\nzh      27\nde      27\nhi      19\nja      16\nit      14\ncn      12\nru      11\nko      11\npt       9\nda       7\nsv       5\nnl       4\nfa       4\nth       3\nhe       3\nta       2\ncs       2\nro       2\nid       2\nar       2\nvi       1\nsl       1\nps       1\nno       1\nky       1\nhu       1\npl       1\naf       1\nnb       1\ntr       1\nis       1\nxx       1\nte       1\nel       1\nName: original_language, dtype: int64"
     },
     "execution_count": 102,
     "metadata": {},
     "output_type": "execute_result"
    }
   ],
   "source": [
    "count_lang"
   ],
   "metadata": {
    "collapsed": false,
    "pycharm": {
     "name": "#%%\n"
    }
   }
  },
  {
   "cell_type": "code",
   "execution_count": 104,
   "outputs": [],
   "source": [
    "count_en = count_lang.loc[\"en\"]"
   ],
   "metadata": {
    "collapsed": false,
    "pycharm": {
     "name": "#%%\n"
    }
   }
  },
  {
   "cell_type": "code",
   "execution_count": 105,
   "outputs": [],
   "source": [
    "count_all = count_lang.sum()\n",
    "count_rest = count_all - count_en"
   ],
   "metadata": {
    "collapsed": false,
    "pycharm": {
     "name": "#%%\n"
    }
   }
  },
  {
   "cell_type": "code",
   "execution_count": 106,
   "outputs": [
    {
     "name": "stdout",
     "output_type": "stream",
     "text": [
      "4505 298\n"
     ]
    }
   ],
   "source": [
    "print(count_en, count_rest)"
   ],
   "metadata": {
    "collapsed": false,
    "pycharm": {
     "name": "#%%\n"
    }
   }
  },
  {
   "cell_type": "code",
   "execution_count": 110,
   "outputs": [],
   "source": [
    "data = {\n",
    "    'lang' : ['English', 'Others'],\n",
    "    'total': [count_en, count_rest]\n",
    "}\n",
    "data = pd.DataFrame(data)"
   ],
   "metadata": {
    "collapsed": false,
    "pycharm": {
     "name": "#%%\n"
    }
   }
  },
  {
   "cell_type": "code",
   "execution_count": 111,
   "outputs": [
    {
     "data": {
      "text/plain": "      lang  total\n0  English   4505\n1   Others    298",
      "text/html": "<div>\n<style scoped>\n    .dataframe tbody tr th:only-of-type {\n        vertical-align: middle;\n    }\n\n    .dataframe tbody tr th {\n        vertical-align: top;\n    }\n\n    .dataframe thead th {\n        text-align: right;\n    }\n</style>\n<table border=\"1\" class=\"dataframe\">\n  <thead>\n    <tr style=\"text-align: right;\">\n      <th></th>\n      <th>lang</th>\n      <th>total</th>\n    </tr>\n  </thead>\n  <tbody>\n    <tr>\n      <th>0</th>\n      <td>English</td>\n      <td>4505</td>\n    </tr>\n    <tr>\n      <th>1</th>\n      <td>Others</td>\n      <td>298</td>\n    </tr>\n  </tbody>\n</table>\n</div>"
     },
     "execution_count": 111,
     "metadata": {},
     "output_type": "execute_result"
    }
   ],
   "source": [
    "data"
   ],
   "metadata": {
    "collapsed": false,
    "pycharm": {
     "name": "#%%\n"
    }
   }
  },
  {
   "cell_type": "code",
   "execution_count": 113,
   "outputs": [
    {
     "data": {
      "text/plain": "<AxesSubplot:xlabel='lang', ylabel='total'>"
     },
     "execution_count": 113,
     "metadata": {},
     "output_type": "execute_result"
    },
    {
     "data": {
      "text/plain": "<Figure size 432x288 with 1 Axes>",
      "image/png": "[encoded data removed]"
     },
     "metadata": {},
     "output_type": "display_data"
    }
   ],
   "source": [
    "sns.barplot(x=\"lang\",y=\"total\",data=data)"
   ],
   "metadata": {
    "collapsed": false,
    "pycharm": {
     "name": "#%%\n"
    }
   }
  },
  {
   "cell_type": "code",
   "execution_count": 114,
   "outputs": [
    {
     "data": {
      "text/plain": "([<matplotlib.patches.Wedge at 0x2972f5ff130>,\n  <matplotlib.patches.Wedge at 0x2972f5ff4f0>],\n [Text(-1.0791697536499925, 0.2130554923183512, 'English'),\n  Text(1.0791697511565306, -0.2130555049482467, 'Others')])"
     },
     "execution_count": 114,
     "metadata": {},
     "output_type": "execute_result"
    },
    {
     "data": {
      "text/plain": "<Figure size 432x288 with 1 Axes>",
      "image/png": "[encoded data removed]"
     },
     "metadata": {},
     "output_type": "display_data"
    }
   ],
   "source": [
    "plt.pie(data.total, labels=data.lang)"
   ],
   "metadata": {
    "collapsed": false,
    "pycharm": {
     "name": "#%%\n"
    }
   }
  },
  {
   "cell_type": "code",
   "execution_count": 119,
   "outputs": [],
   "source": [
    "total_other_langs = tmbd.query(\"original_language != 'en'\").original_language.value_counts()"
   ],
   "metadata": {
    "collapsed": false,
    "pycharm": {
     "name": "#%%\n"
    }
   }
  },
  {
   "cell_type": "code",
   "execution_count": 120,
   "outputs": [
    {
     "data": {
      "text/plain": "fr    70\nes    32\nzh    27\nde    27\nhi    19\nja    16\nit    14\ncn    12\nko    11\nru    11\npt     9\nda     7\nsv     5\nfa     4\nnl     4\nhe     3\nth     3\nro     2\nid     2\nar     2\ncs     2\nta     2\ntr     1\nnb     1\naf     1\npl     1\nis     1\nhu     1\nvi     1\nky     1\nxx     1\nte     1\nno     1\nsl     1\nps     1\nel     1\nName: original_language, dtype: int64"
     },
     "execution_count": 120,
     "metadata": {},
     "output_type": "execute_result"
    }
   ],
   "source": [
    "total_other_langs"
   ],
   "metadata": {
    "collapsed": false,
    "pycharm": {
     "name": "#%%\n"
    }
   }
  },
  {
   "cell_type": "code",
   "execution_count": 122,
   "outputs": [],
   "source": [
    "movies_other_langs = tmbd.query(\"original_language != 'en'\")"
   ],
   "metadata": {
    "collapsed": false,
    "pycharm": {
     "name": "#%%\n"
    }
   }
  },
  {
   "cell_type": "code",
   "execution_count": 123,
   "outputs": [
    {
     "data": {
      "text/plain": "        budget                                             genres  \\\n97    15000000  [{\"id\": 28, \"name\": \"Action\"}, {\"id\": 12, \"nam...   \n235   97250400  [{\"id\": 14, \"name\": \"Fantasy\"}, {\"id\": 12, \"na...   \n317   94000000  [{\"id\": 18, \"name\": \"Drama\"}, {\"id\": 36, \"name...   \n474          0  [{\"id\": 9648, \"name\": \"Mystery\"}, {\"id\": 18, \"...   \n492    8000000  [{\"id\": 35, \"name\": \"Comedy\"}, {\"id\": 16, \"nam...   \n...        ...                                                ...   \n4739         0  [{\"id\": 35, \"name\": \"Comedy\"}, {\"id\": 10749, \"...   \n4751         0  [{\"id\": 18, \"name\": \"Drama\"}, {\"id\": 10749, \"n...   \n4790         0  [{\"id\": 18, \"name\": \"Drama\"}, {\"id\": 10769, \"n...   \n4792     20000  [{\"id\": 80, \"name\": \"Crime\"}, {\"id\": 27, \"name...   \n4798    220000  [{\"id\": 28, \"name\": \"Action\"}, {\"id\": 80, \"nam...   \n\n                                               homepage      id  \\\n97                                                  NaN  315011   \n235   http://www.asterixauxjeuxolympiques.com/index.php    2395   \n317                http://www.theflowersofwarmovie.com/   76758   \n474                                                 NaN  330770   \n492                                                 NaN  293644   \n...                                                 ...     ...   \n4739                                                NaN   90414   \n4751                                                NaN   42109   \n4790                                                NaN   13898   \n4792                                                NaN   36095   \n4798                                                NaN    9367   \n\n                                               keywords original_language  \\\n97    [{\"id\": 1299, \"name\": \"monster\"}, {\"id\": 7671,...                ja   \n235   [{\"id\": 271, \"name\": \"competition\"}, {\"id\": 12...                fr   \n317   [{\"id\": 173251, \"name\": \"forced prostitution\"}...                zh   \n474   [{\"id\": 428, \"name\": \"nurse\"}, {\"id\": 658, \"na...                fr   \n492                      [{\"id\": 209714, \"name\": \"3d\"}]                es   \n...                                                 ...               ...   \n4739         [{\"id\": 187056, \"name\": \"woman director\"}]                fr   \n4751                                                 []                pt   \n4790                                                 []                fa   \n4792  [{\"id\": 233, \"name\": \"japan\"}, {\"id\": 549, \"na...                ja   \n4798  [{\"id\": 5616, \"name\": \"united states\\u2013mexi...                es   \n\n                          original_title  \\\n97                                シン・ゴジラ   \n235          Astérix aux Jeux Olympiques   \n317                                金陵十三釵   \n474                            Évolution   \n492   Don Gato: El inicio de la pandilla   \n...                                  ...   \n4739         I Love You, Don't Touch Me!   \n4751            Gabriela, Cravo e Canela   \n4790                               دایره   \n4792                                 キュア   \n4798                         El Mariachi   \n\n                                               overview  popularity  \\\n97    From the mind behind Evangelion comes a hit la...    9.476999   \n235   Astérix and Obélix have to win the Olympic Gam...   20.344364   \n317   A Westerner finds refuge with a group of women...   12.516546   \n474   11-year-old Nicolas lives with his mother in a...    3.300061   \n492   Top Cat has arrived to charm his way into your...    0.719996   \n...                                                 ...         ...   \n4739  The story of a 25 year old virgin girl, lookin...    0.020839   \n4751  In 1925, Gabriela becomes cook, mistress, and ...    0.557602   \n4790  Various women struggle to function in the oppr...    1.193779   \n4792  A wave of gruesome murders is sweeping Tokyo. ...    0.212443   \n4798  El Mariachi just wants to play his guitar and ...   14.269792   \n\n                                   production_companies  \\\n97    [{\"name\": \"Cine Bazar\", \"id\": 5896}, {\"name\": ...   \n235   [{\"name\": \"Constantin Film\", \"id\": 47}, {\"name...   \n317   [{\"name\": \"Beijing New Picture Film Co. Ltd.\",...   \n474   [{\"name\": \"Ex Nihilo\", \"id\": 3307}, {\"name\": \"...   \n492   [{\"name\": \"Anima Estudios\", \"id\": 9965}, {\"nam...   \n...                                                 ...   \n4739                                                 []   \n4751  [{\"name\": \"United Artists\", \"id\": 60}, {\"name\"...   \n4790  [{\"name\": \"Jafar Panahi Film Productions\", \"id...   \n4792             [{\"name\": \"Daiei Studios\", \"id\": 881}]   \n4798           [{\"name\": \"Columbia Pictures\", \"id\": 5}]   \n\n                                   production_countries release_date  \\\n97              [{\"iso_3166_1\": \"JP\", \"name\": \"Japan\"}]   2016-07-29   \n235   [{\"iso_3166_1\": \"BE\", \"name\": \"Belgium\"}, {\"is...   2008-01-13   \n317   [{\"iso_3166_1\": \"CN\", \"name\": \"China\"}, {\"iso_...   2011-12-15   \n474   [{\"iso_3166_1\": \"BE\", \"name\": \"Belgium\"}, {\"is...   2015-09-14   \n492   [{\"iso_3166_1\": \"IN\", \"name\": \"India\"}, {\"iso_...   2015-10-30   \n...                                                 ...          ...   \n4739  [{\"iso_3166_1\": \"US\", \"name\": \"United States o...   1997-01-21   \n4751           [{\"iso_3166_1\": \"BR\", \"name\": \"Brazil\"}]   1983-03-24   \n4790             [{\"iso_3166_1\": \"IR\", \"name\": \"Iran\"}]   2000-09-08   \n4792            [{\"iso_3166_1\": \"JP\", \"name\": \"Japan\"}]   1997-11-06   \n4798  [{\"iso_3166_1\": \"MX\", \"name\": \"Mexico\"}, {\"iso...   1992-09-04   \n\n        revenue  runtime                                   spoken_languages  \\\n97     77000000    120.0  [{\"iso_639_1\": \"it\", \"name\": \"Italiano\"}, {\"is...   \n235   132900000    116.0  [{\"iso_639_1\": \"fr\", \"name\": \"Fran\\u00e7ais\"},...   \n317    95311434    145.0  [{\"iso_639_1\": \"zh\", \"name\": \"\\u666e\\u901a\\u8b...   \n474           0     81.0     [{\"iso_639_1\": \"fr\", \"name\": \"Fran\\u00e7ais\"}]   \n492           0     89.0                                                 []   \n...         ...      ...                                                ...   \n4739          0     86.0           [{\"iso_639_1\": \"en\", \"name\": \"English\"}]   \n4751          0     99.0    [{\"iso_639_1\": \"pt\", \"name\": \"Portugu\\u00eas\"}]   \n4790          0     90.0  [{\"iso_639_1\": \"fa\", \"name\": \"\\u0641\\u0627\\u06...   \n4792      99000    111.0  [{\"iso_639_1\": \"ja\", \"name\": \"\\u65e5\\u672c\\u8a...   \n4798    2040920     81.0      [{\"iso_639_1\": \"es\", \"name\": \"Espa\\u00f1ol\"}]   \n\n        status                                            tagline  \\\n97    Released                    A god incarnate. A city doomed.   \n235   Released                                                NaN   \n317   Released                                                NaN   \n474   Released                                                NaN   \n492   Released                                                NaN   \n...        ...                                                ...   \n4739  Released  Just Your Typical Boy-Loves-Girl Who Doesn't L...   \n4751  Released                                                NaN   \n4790  Released                                                NaN   \n4792  Released                           Madness. Terror. Murder.   \n4798  Released  He didn't come looking for trouble, but troubl...   \n\n                             title  vote_average  vote_count  \n97                   Shin Godzilla           6.5         143  \n235   Asterix at the Olympic Games           5.0         471  \n317             The Flowers of War           7.1         187  \n474                      Evolution           6.4          47  \n492                 Top Cat Begins           5.3           9  \n...                            ...           ...         ...  \n4739   I Love You, Don't Touch Me!           6.0           1  \n4751                      Gabriela           6.0           2  \n4790                    The Circle           6.6          17  \n4792                          Cure           7.4          63  \n4798                   El Mariachi           6.6         238  \n\n[298 rows x 20 columns]",
      "text/html": "<div>\n<style scoped>\n    .dataframe tbody tr th:only-of-type {\n        vertical-align: middle;\n    }\n\n    .dataframe tbody tr th {\n        vertical-align: top;\n    }\n\n    .dataframe thead th {\n        text-align: right;\n    }\n</style>\n<table border=\"1\" class=\"dataframe\">\n  <thead>\n    <tr style=\"text-align: right;\">\n      <th></th>\n      <th>budget</th>\n      <th>genres</th>\n      <th>homepage</th>\n      <th>id</th>\n      <th>keywords</th>\n      <th>original_language</th>\n      <th>original_title</th>\n      <th>overview</th>\n      <th>popularity</th>\n      <th>production_companies</th>\n      <th>production_countries</th>\n      <th>release_date</th>\n      <th>revenue</th>\n      <th>runtime</th>\n      <th>spoken_languages</th>\n      <th>status</th>\n      <th>tagline</th>\n      <th>title</th>\n      <th>vote_average</th>\n      <th>vote_count</th>\n    </tr>\n  </thead>\n  <tbody>\n    <tr>\n      <th>97</th>\n      <td>15000000</td>\n      <td>[{\"id\": 28, \"name\": \"Action\"}, {\"id\": 12, \"nam...</td>\n      <td>NaN</td>\n      <td>315011</td>\n      <td>[{\"id\": 1299, \"name\": \"monster\"}, {\"id\": 7671,...</td>\n      <td>ja</td>\n      <td>シン・ゴジラ</td>\n      <td>From the mind behind Evangelion comes a hit la...</td>\n      <td>9.476999</td>\n      <td>[{\"name\": \"Cine Bazar\", \"id\": 5896}, {\"name\": ...</td>\n      <td>[{\"iso_3166_1\": \"JP\", \"name\": \"Japan\"}]</td>\n      <td>2016-07-29</td>\n      <td>77000000</td>\n      <td>120.0</td>\n      <td>[{\"iso_639_1\": \"it\", \"name\": \"Italiano\"}, {\"is...</td>\n      <td>Released</td>\n      <td>A god incarnate. A city doomed.</td>\n      <td>Shin Godzilla</td>\n      <td>6.5</td>\n      <td>143</td>\n    </tr>\n    <tr>\n      <th>235</th>\n      <td>97250400</td>\n      <td>[{\"id\": 14, \"name\": \"Fantasy\"}, {\"id\": 12, \"na...</td>\n      <td>http://www.asterixauxjeuxolympiques.com/index.php</td>\n      <td>2395</td>\n      <td>[{\"id\": 271, \"name\": \"competition\"}, {\"id\": 12...</td>\n      <td>fr</td>\n      <td>Astérix aux Jeux Olympiques</td>\n      <td>Astérix and Obélix have to win the Olympic Gam...</td>\n      <td>20.344364</td>\n      <td>[{\"name\": \"Constantin Film\", \"id\": 47}, {\"name...</td>\n      <td>[{\"iso_3166_1\": \"BE\", \"name\": \"Belgium\"}, {\"is...</td>\n      <td>2008-01-13</td>\n      <td>132900000</td>\n      <td>116.0</td>\n      <td>[{\"iso_639_1\": \"fr\", \"name\": \"Fran\\u00e7ais\"},...</td>\n      <td>Released</td>\n      <td>NaN</td>\n      <td>Asterix at the Olympic Games</td>\n      <td>5.0</td>\n      <td>471</td>\n    </tr>\n    <tr>\n      <th>317</th>\n      <td>94000000</td>\n      <td>[{\"id\": 18, \"name\": \"Drama\"}, {\"id\": 36, \"name...</td>\n      <td>http://www.theflowersofwarmovie.com/</td>\n      <td>76758</td>\n      <td>[{\"id\": 173251, \"name\": \"forced prostitution\"}...</td>\n      <td>zh</td>\n      <td>金陵十三釵</td>\n      <td>A Westerner finds refuge with a group of women...</td>\n      <td>12.516546</td>\n      <td>[{\"name\": \"Beijing New Picture Film Co. Ltd.\",...</td>\n      <td>[{\"iso_3166_1\": \"CN\", \"name\": \"China\"}, {\"iso_...</td>\n      <td>2011-12-15</td>\n      <td>95311434</td>\n      <td>145.0</td>\n      <td>[{\"iso_639_1\": \"zh\", \"name\": \"\\u666e\\u901a\\u8b...</td>\n      <td>Released</td>\n      <td>NaN</td>\n      <td>The Flowers of War</td>\n      <td>7.1</td>\n      <td>187</td>\n    </tr>\n    <tr>\n      <th>474</th>\n      <td>0</td>\n      <td>[{\"id\": 9648, \"name\": \"Mystery\"}, {\"id\": 18, \"...</td>\n      <td>NaN</td>\n      <td>330770</td>\n      <td>[{\"id\": 428, \"name\": \"nurse\"}, {\"id\": 658, \"na...</td>\n      <td>fr</td>\n      <td>Évolution</td>\n      <td>11-year-old Nicolas lives with his mother in a...</td>\n      <td>3.300061</td>\n      <td>[{\"name\": \"Ex Nihilo\", \"id\": 3307}, {\"name\": \"...</td>\n      <td>[{\"iso_3166_1\": \"BE\", \"name\": \"Belgium\"}, {\"is...</td>\n      <td>2015-09-14</td>\n      <td>0</td>\n      <td>81.0</td>\n      <td>[{\"iso_639_1\": \"fr\", \"name\": \"Fran\\u00e7ais\"}]</td>\n      <td>Released</td>\n      <td>NaN</td>\n      <td>Evolution</td>\n      <td>6.4</td>\n      <td>47</td>\n    </tr>\n    <tr>\n      <th>492</th>\n      <td>8000000</td>\n      <td>[{\"id\": 35, \"name\": \"Comedy\"}, {\"id\": 16, \"nam...</td>\n      <td>NaN</td>\n      <td>293644</td>\n      <td>[{\"id\": 209714, \"name\": \"3d\"}]</td>\n      <td>es</td>\n      <td>Don Gato: El inicio de la pandilla</td>\n      <td>Top Cat has arrived to charm his way into your...</td>\n      <td>0.719996</td>\n      <td>[{\"name\": \"Anima Estudios\", \"id\": 9965}, {\"nam...</td>\n      <td>[{\"iso_3166_1\": \"IN\", \"name\": \"India\"}, {\"iso_...</td>\n      <td>2015-10-30</td>\n      <td>0</td>\n      <td>89.0</td>\n      <td>[]</td>\n      <td>Released</td>\n      <td>NaN</td>\n      <td>Top Cat Begins</td>\n      <td>5.3</td>\n      <td>9</td>\n    </tr>\n    <tr>\n      <th>...</th>\n      <td>...</td>\n      <td>...</td>\n      <td>...</td>\n      <td>...</td>\n      <td>...</td>\n      <td>...</td>\n      <td>...</td>\n      <td>...</td>\n      <td>...</td>\n      <td>...</td>\n      <td>...</td>\n      <td>...</td>\n      <td>...</td>\n      <td>...</td>\n      <td>...</td>\n      <td>...</td>\n      <td>...</td>\n      <td>...</td>\n      <td>...</td>\n      <td>...</td>\n    </tr>\n    <tr>\n      <th>4739</th>\n      <td>0</td>\n      <td>[{\"id\": 35, \"name\": \"Comedy\"}, {\"id\": 10749, \"...</td>\n      <td>NaN</td>\n      <td>90414</td>\n      <td>[{\"id\": 187056, \"name\": \"woman director\"}]</td>\n      <td>fr</td>\n      <td>I Love You, Don't Touch Me!</td>\n      <td>The story of a 25 year old virgin girl, lookin...</td>\n      <td>0.020839</td>\n      <td>[]</td>\n      <td>[{\"iso_3166_1\": \"US\", \"name\": \"United States o...</td>\n      <td>1997-01-21</td>\n      <td>0</td>\n      <td>86.0</td>\n      <td>[{\"iso_639_1\": \"en\", \"name\": \"English\"}]</td>\n      <td>Released</td>\n      <td>Just Your Typical Boy-Loves-Girl Who Doesn't L...</td>\n      <td>I Love You, Don't Touch Me!</td>\n      <td>6.0</td>\n      <td>1</td>\n    </tr>\n    <tr>\n      <th>4751</th>\n      <td>0</td>\n      <td>[{\"id\": 18, \"name\": \"Drama\"}, {\"id\": 10749, \"n...</td>\n      <td>NaN</td>\n      <td>42109</td>\n      <td>[]</td>\n      <td>pt</td>\n      <td>Gabriela, Cravo e Canela</td>\n      <td>In 1925, Gabriela becomes cook, mistress, and ...</td>\n      <td>0.557602</td>\n      <td>[{\"name\": \"United Artists\", \"id\": 60}, {\"name\"...</td>\n      <td>[{\"iso_3166_1\": \"BR\", \"name\": \"Brazil\"}]</td>\n      <td>1983-03-24</td>\n      <td>0</td>\n      <td>99.0</td>\n      <td>[{\"iso_639_1\": \"pt\", \"name\": \"Portugu\\u00eas\"}]</td>\n      <td>Released</td>\n      <td>NaN</td>\n      <td>Gabriela</td>\n      <td>6.0</td>\n      <td>2</td>\n    </tr>\n    <tr>\n      <th>4790</th>\n      <td>0</td>\n      <td>[{\"id\": 18, \"name\": \"Drama\"}, {\"id\": 10769, \"n...</td>\n      <td>NaN</td>\n      <td>13898</td>\n      <td>[]</td>\n      <td>fa</td>\n      <td>دایره</td>\n      <td>Various women struggle to function in the oppr...</td>\n      <td>1.193779</td>\n      <td>[{\"name\": \"Jafar Panahi Film Productions\", \"id...</td>\n      <td>[{\"iso_3166_1\": \"IR\", \"name\": \"Iran\"}]</td>\n      <td>2000-09-08</td>\n      <td>0</td>\n      <td>90.0</td>\n      <td>[{\"iso_639_1\": \"fa\", \"name\": \"\\u0641\\u0627\\u06...</td>\n      <td>Released</td>\n      <td>NaN</td>\n      <td>The Circle</td>\n      <td>6.6</td>\n      <td>17</td>\n    </tr>\n    <tr>\n      <th>4792</th>\n      <td>20000</td>\n      <td>[{\"id\": 80, \"name\": \"Crime\"}, {\"id\": 27, \"name...</td>\n      <td>NaN</td>\n      <td>36095</td>\n      <td>[{\"id\": 233, \"name\": \"japan\"}, {\"id\": 549, \"na...</td>\n      <td>ja</td>\n      <td>キュア</td>\n      <td>A wave of gruesome murders is sweeping Tokyo. ...</td>\n      <td>0.212443</td>\n      <td>[{\"name\": \"Daiei Studios\", \"id\": 881}]</td>\n      <td>[{\"iso_3166_1\": \"JP\", \"name\": \"Japan\"}]</td>\n      <td>1997-11-06</td>\n      <td>99000</td>\n      <td>111.0</td>\n      <td>[{\"iso_639_1\": \"ja\", \"name\": \"\\u65e5\\u672c\\u8a...</td>\n      <td>Released</td>\n      <td>Madness. Terror. Murder.</td>\n      <td>Cure</td>\n      <td>7.4</td>\n      <td>63</td>\n    </tr>\n    <tr>\n      <th>4798</th>\n      <td>220000</td>\n      <td>[{\"id\": 28, \"name\": \"Action\"}, {\"id\": 80, \"nam...</td>\n      <td>NaN</td>\n      <td>9367</td>\n      <td>[{\"id\": 5616, \"name\": \"united states\\u2013mexi...</td>\n      <td>es</td>\n      <td>El Mariachi</td>\n      <td>El Mariachi just wants to play his guitar and ...</td>\n      <td>14.269792</td>\n      <td>[{\"name\": \"Columbia Pictures\", \"id\": 5}]</td>\n      <td>[{\"iso_3166_1\": \"MX\", \"name\": \"Mexico\"}, {\"iso...</td>\n      <td>1992-09-04</td>\n      <td>2040920</td>\n      <td>81.0</td>\n      <td>[{\"iso_639_1\": \"es\", \"name\": \"Espa\\u00f1ol\"}]</td>\n      <td>Released</td>\n      <td>He didn't come looking for trouble, but troubl...</td>\n      <td>El Mariachi</td>\n      <td>6.6</td>\n      <td>238</td>\n    </tr>\n  </tbody>\n</table>\n<p>298 rows × 20 columns</p>\n</div>"
     },
     "execution_count": 123,
     "metadata": {},
     "output_type": "execute_result"
    }
   ],
   "source": [
    "movies_other_langs"
   ],
   "metadata": {
    "collapsed": false,
    "pycharm": {
     "name": "#%%\n"
    }
   }
  },
  {
   "cell_type": "code",
   "execution_count": 125,
   "outputs": [
    {
     "data": {
      "text/plain": "<seaborn.axisgrid.FacetGrid at 0x2972f513f40>"
     },
     "execution_count": 125,
     "metadata": {},
     "output_type": "execute_result"
    },
    {
     "data": {
      "text/plain": "<Figure size 360x360 with 1 Axes>",
      "image/png": "[encoded data removed]"
     },
     "metadata": {},
     "output_type": "display_data"
    }
   ],
   "source": [
    "sns.catplot(x=\"original_language\",data=movies_other_langs, kind=\"count\")"
   ],
   "metadata": {
    "collapsed": false,
    "pycharm": {
     "name": "#%%\n"
    }
   }
  },
  {
   "cell_type": "code",
   "execution_count": 133,
   "outputs": [
    {
     "data": {
      "text/plain": "<seaborn.axisgrid.FacetGrid at 0x2972f6e91c0>"
     },
     "execution_count": 133,
     "metadata": {},
     "output_type": "execute_result"
    },
    {
     "data": {
      "text/plain": "<Figure size 1440x360 with 1 Axes>",
      "image/png": "[encoded data removed]"
     },
     "metadata": {},
     "output_type": "display_data"
    }
   ],
   "source": [
    "sns.catplot(x=\"original_language\",data=movies_other_langs, kind=\"count\", aspect=4)"
   ],
   "metadata": {
    "collapsed": false,
    "pycharm": {
     "name": "#%%\n"
    }
   }
  },
  {
   "cell_type": "code",
   "execution_count": 135,
   "outputs": [
    {
     "data": {
      "text/plain": "<seaborn.axisgrid.FacetGrid at 0x2972c337d90>"
     },
     "execution_count": 135,
     "metadata": {},
     "output_type": "execute_result"
    },
    {
     "data": {
      "text/plain": "<Figure size 1440x360 with 1 Axes>",
      "image/png": "[encoded data removed]"
     },
     "metadata": {},
     "output_type": "display_data"
    }
   ],
   "source": [
    "sns.catplot(x=\"original_language\",data=movies_other_langs, kind=\"count\", aspect=4, order= total_other_langs.index)"
   ],
   "metadata": {
    "collapsed": false,
    "pycharm": {
     "name": "#%%\n"
    }
   }
  },
  {
   "cell_type": "code",
   "execution_count": 136,
   "outputs": [
    {
     "data": {
      "text/plain": "<seaborn.axisgrid.FacetGrid at 0x297303f5160>"
     },
     "execution_count": 136,
     "metadata": {},
     "output_type": "execute_result"
    },
    {
     "data": {
      "text/plain": "<Figure size 1440x360 with 1 Axes>",
      "image/png": "[encoded data removed]"
     },
     "metadata": {},
     "output_type": "display_data"
    }
   ],
   "source": [
    "sns.catplot(x=\"original_language\",data=movies_other_langs, kind=\"count\", aspect=4, order= total_other_langs.index, palette=\"GnBu_d\")"
   ],
   "metadata": {
    "collapsed": false,
    "pycharm": {
     "name": "#%%\n"
    }
   }
  },
  {
   "cell_type": "code",
   "execution_count": 137,
   "outputs": [
    {
     "data": {
      "text/plain": "   filme_ID                              titulo  \\\n0         1                    Toy Story (1995)   \n1         2                      Jumanji (1995)   \n2         3             Grumpier Old Men (1995)   \n3         4            Waiting to Exhale (1995)   \n4         5  Father of the Bride Part II (1995)   \n\n                                        genero  \n0  Adventure|Animation|Children|Comedy|Fantasy  \n1                   Adventure|Children|Fantasy  \n2                               Comedy|Romance  \n3                         Comedy|Drama|Romance  \n4                                       Comedy  ",
      "text/html": "<div>\n<style scoped>\n    .dataframe tbody tr th:only-of-type {\n        vertical-align: middle;\n    }\n\n    .dataframe tbody tr th {\n        vertical-align: top;\n    }\n\n    .dataframe thead th {\n        text-align: right;\n    }\n</style>\n<table border=\"1\" class=\"dataframe\">\n  <thead>\n    <tr style=\"text-align: right;\">\n      <th></th>\n      <th>filme_ID</th>\n      <th>titulo</th>\n      <th>genero</th>\n    </tr>\n  </thead>\n  <tbody>\n    <tr>\n      <th>0</th>\n      <td>1</td>\n      <td>Toy Story (1995)</td>\n      <td>Adventure|Animation|Children|Comedy|Fantasy</td>\n    </tr>\n    <tr>\n      <th>1</th>\n      <td>2</td>\n      <td>Jumanji (1995)</td>\n      <td>Adventure|Children|Fantasy</td>\n    </tr>\n    <tr>\n      <th>2</th>\n      <td>3</td>\n      <td>Grumpier Old Men (1995)</td>\n      <td>Comedy|Romance</td>\n    </tr>\n    <tr>\n      <th>3</th>\n      <td>4</td>\n      <td>Waiting to Exhale (1995)</td>\n      <td>Comedy|Drama|Romance</td>\n    </tr>\n    <tr>\n      <th>4</th>\n      <td>5</td>\n      <td>Father of the Bride Part II (1995)</td>\n      <td>Comedy</td>\n    </tr>\n  </tbody>\n</table>\n</div>"
     },
     "execution_count": 137,
     "metadata": {},
     "output_type": "execute_result"
    }
   ],
   "source": [
    "filmes.head()"
   ],
   "metadata": {
    "collapsed": false,
    "pycharm": {
     "name": "#%%\n"
    }
   }
  },
  {
   "cell_type": "code",
   "execution_count": 138,
   "outputs": [
    {
     "data": {
      "text/plain": "   filme_ID            titulo                                       genero\n0         1  Toy Story (1995)  Adventure|Animation|Children|Comedy|Fantasy\n1         2    Jumanji (1995)                   Adventure|Children|Fantasy",
      "text/html": "<div>\n<style scoped>\n    .dataframe tbody tr th:only-of-type {\n        vertical-align: middle;\n    }\n\n    .dataframe tbody tr th {\n        vertical-align: top;\n    }\n\n    .dataframe thead th {\n        text-align: right;\n    }\n</style>\n<table border=\"1\" class=\"dataframe\">\n  <thead>\n    <tr style=\"text-align: right;\">\n      <th></th>\n      <th>filme_ID</th>\n      <th>titulo</th>\n      <th>genero</th>\n    </tr>\n  </thead>\n  <tbody>\n    <tr>\n      <th>0</th>\n      <td>1</td>\n      <td>Toy Story (1995)</td>\n      <td>Adventure|Animation|Children|Comedy|Fantasy</td>\n    </tr>\n    <tr>\n      <th>1</th>\n      <td>2</td>\n      <td>Jumanji (1995)</td>\n      <td>Adventure|Children|Fantasy</td>\n    </tr>\n  </tbody>\n</table>\n</div>"
     },
     "execution_count": 138,
     "metadata": {},
     "output_type": "execute_result"
    }
   ],
   "source": [
    "filmes.head(2)"
   ],
   "metadata": {
    "collapsed": false,
    "pycharm": {
     "name": "#%%\n"
    }
   }
  },
  {
   "cell_type": "code",
   "execution_count": 139,
   "outputs": [
    {
     "data": {
      "text/plain": "   usuario_ID  filme_ID  nota    momento\n0           1         1   4.0  964982703\n1           1         3   4.0  964981247",
      "text/html": "<div>\n<style scoped>\n    .dataframe tbody tr th:only-of-type {\n        vertical-align: middle;\n    }\n\n    .dataframe tbody tr th {\n        vertical-align: top;\n    }\n\n    .dataframe thead th {\n        text-align: right;\n    }\n</style>\n<table border=\"1\" class=\"dataframe\">\n  <thead>\n    <tr style=\"text-align: right;\">\n      <th></th>\n      <th>usuario_ID</th>\n      <th>filme_ID</th>\n      <th>nota</th>\n      <th>momento</th>\n    </tr>\n  </thead>\n  <tbody>\n    <tr>\n      <th>0</th>\n      <td>1</td>\n      <td>1</td>\n      <td>4.0</td>\n      <td>964982703</td>\n    </tr>\n    <tr>\n      <th>1</th>\n      <td>1</td>\n      <td>3</td>\n      <td>4.0</td>\n      <td>964981247</td>\n    </tr>\n  </tbody>\n</table>\n</div>"
     },
     "execution_count": 139,
     "metadata": {},
     "output_type": "execute_result"
    }
   ],
   "source": [
    "notas.head(2)"
   ],
   "metadata": {
    "collapsed": false,
    "pycharm": {
     "name": "#%%\n"
    }
   }
  },
  {
   "cell_type": "code",
   "execution_count": 140,
   "outputs": [
    {
     "data": {
      "text/plain": "       usuario_ID  filme_ID  nota     momento\n0               1         1   4.0   964982703\n516             5         1   4.0   847434962\n874             7         1   4.5  1106635946\n1434           15         1   2.5  1510577970\n1667           17         1   4.5  1305696483\n...           ...       ...   ...         ...\n97364         606         1   2.5  1349082950\n98479         607         1   4.0   964744033\n98666         608         1   2.5  1117408267\n99497         609         1   3.0   847221025\n99534         610         1   5.0  1479542900\n\n[215 rows x 4 columns]",
      "text/html": "<div>\n<style scoped>\n    .dataframe tbody tr th:only-of-type {\n        vertical-align: middle;\n    }\n\n    .dataframe tbody tr th {\n        vertical-align: top;\n    }\n\n    .dataframe thead th {\n        text-align: right;\n    }\n</style>\n<table border=\"1\" class=\"dataframe\">\n  <thead>\n    <tr style=\"text-align: right;\">\n      <th></th>\n      <th>usuario_ID</th>\n      <th>filme_ID</th>\n      <th>nota</th>\n      <th>momento</th>\n    </tr>\n  </thead>\n  <tbody>\n    <tr>\n      <th>0</th>\n      <td>1</td>\n      <td>1</td>\n      <td>4.0</td>\n      <td>964982703</td>\n    </tr>\n    <tr>\n      <th>516</th>\n      <td>5</td>\n      <td>1</td>\n      <td>4.0</td>\n      <td>847434962</td>\n    </tr>\n    <tr>\n      <th>874</th>\n      <td>7</td>\n      <td>1</td>\n      <td>4.5</td>\n      <td>1106635946</td>\n    </tr>\n    <tr>\n      <th>1434</th>\n      <td>15</td>\n      <td>1</td>\n      <td>2.5</td>\n      <td>1510577970</td>\n    </tr>\n    <tr>\n      <th>1667</th>\n      <td>17</td>\n      <td>1</td>\n      <td>4.5</td>\n      <td>1305696483</td>\n    </tr>\n    <tr>\n      <th>...</th>\n      <td>...</td>\n      <td>...</td>\n      <td>...</td>\n      <td>...</td>\n    </tr>\n    <tr>\n      <th>97364</th>\n      <td>606</td>\n      <td>1</td>\n      <td>2.5</td>\n      <td>1349082950</td>\n    </tr>\n    <tr>\n      <th>98479</th>\n      <td>607</td>\n      <td>1</td>\n      <td>4.0</td>\n      <td>964744033</td>\n    </tr>\n    <tr>\n      <th>98666</th>\n      <td>608</td>\n      <td>1</td>\n      <td>2.5</td>\n      <td>1117408267</td>\n    </tr>\n    <tr>\n      <th>99497</th>\n      <td>609</td>\n      <td>1</td>\n      <td>3.0</td>\n      <td>847221025</td>\n    </tr>\n    <tr>\n      <th>99534</th>\n      <td>610</td>\n      <td>1</td>\n      <td>5.0</td>\n      <td>1479542900</td>\n    </tr>\n  </tbody>\n</table>\n<p>215 rows × 4 columns</p>\n</div>"
     },
     "execution_count": 140,
     "metadata": {},
     "output_type": "execute_result"
    }
   ],
   "source": [
    "notas.query(\"filme_ID == 1\")"
   ],
   "metadata": {
    "collapsed": false,
    "pycharm": {
     "name": "#%%\n"
    }
   }
  },
  {
   "cell_type": "code",
   "execution_count": 141,
   "outputs": [],
   "source": [
    "score_toy_story = notas.query(\"filme_ID == 1\")"
   ],
   "metadata": {
    "collapsed": false,
    "pycharm": {
     "name": "#%%\n"
    }
   }
  },
  {
   "cell_type": "code",
   "execution_count": 142,
   "outputs": [],
   "source": [
    "score_jumanji = notas.query(\"filme_ID == 2\")"
   ],
   "metadata": {
    "collapsed": false,
    "pycharm": {
     "name": "#%%\n"
    }
   }
  },
  {
   "cell_type": "code",
   "execution_count": 143,
   "outputs": [
    {
     "name": "stdout",
     "output_type": "stream",
     "text": [
      "215 110\n"
     ]
    }
   ],
   "source": [
    "print(len(score_toy_story), len(score_jumanji))"
   ],
   "metadata": {
    "collapsed": false,
    "pycharm": {
     "name": "#%%\n"
    }
   }
  },
  {
   "cell_type": "code",
   "execution_count": 147,
   "outputs": [
    {
     "name": "stdout",
     "output_type": "stream",
     "text": [
      "Nota media do Toy Story: 3.92\n",
      "Nota media do Jumanji: 3.43\n"
     ]
    }
   ],
   "source": [
    "print(\"Nota media do Toy Story: %.2f\"% score_toy_story.nota.mean())\n",
    "print(\"Nota media do Jumanji: %.2f\"% score_jumanji.nota.mean())"
   ],
   "metadata": {
    "collapsed": false,
    "pycharm": {
     "name": "#%%\n"
    }
   }
  },
  {
   "cell_type": "code",
   "execution_count": 163,
   "outputs": [
    {
     "name": "stdout",
     "output_type": "stream",
     "text": [
      "Nota mediana do Toy Story: 4.00\n",
      "Nota mediana do Jumanji: 3.50\n"
     ]
    }
   ],
   "source": [
    "print(\"Nota mediana do Toy Story: %.2f\"% score_toy_story.nota.median())\n",
    "print(\"Nota mediana do Jumanji: %.2f\"% score_jumanji.nota.median())"
   ],
   "metadata": {
    "collapsed": false,
    "pycharm": {
     "name": "#%%\n"
    }
   }
  },
  {
   "cell_type": "code",
   "execution_count": 149,
   "outputs": [],
   "source": [
    "import numpy as np"
   ],
   "metadata": {
    "collapsed": false,
    "pycharm": {
     "name": "#%%\n"
    }
   }
  },
  {
   "cell_type": "code",
   "execution_count": 154,
   "outputs": [
    {
     "name": "stderr",
     "output_type": "stream",
     "text": [
      "C:\\ProgramData\\Anaconda3\\lib\\site-packages\\seaborn\\_decorators.py:36: FutureWarning: Pass the following variable as a keyword arg: x. From version 0.12, the only valid positional argument will be `data`, and passing other arguments without an explicit keyword will result in an error or misinterpretation.\n",
      "  warnings.warn(\n",
      "C:\\ProgramData\\Anaconda3\\lib\\site-packages\\seaborn\\_decorators.py:36: FutureWarning: Pass the following variable as a keyword arg: x. From version 0.12, the only valid positional argument will be `data`, and passing other arguments without an explicit keyword will result in an error or misinterpretation.\n",
      "  warnings.warn(\n"
     ]
    },
    {
     "data": {
      "text/plain": "<AxesSubplot:xlabel='nota'>"
     },
     "execution_count": 154,
     "metadata": {},
     "output_type": "execute_result"
    },
    {
     "data": {
      "text/plain": "<Figure size 432x288 with 1 Axes>",
      "image/png": "[encoded data removed]"
     },
     "metadata": {},
     "output_type": "display_data"
    }
   ],
   "source": [
    "sns.boxplot(score_toy_story.nota)\n",
    "sns.boxplot(score_jumanji.nota)"
   ],
   "metadata": {
    "collapsed": false,
    "pycharm": {
     "name": "#%%\n"
    }
   }
  },
  {
   "cell_type": "code",
   "execution_count": 156,
   "outputs": [
    {
     "data": {
      "text/plain": "{'whiskers': [<matplotlib.lines.Line2D at 0x2973440dfd0>,\n  <matplotlib.lines.Line2D at 0x297344192e0>,\n  <matplotlib.lines.Line2D at 0x29734425400>,\n  <matplotlib.lines.Line2D at 0x297344256d0>],\n 'caps': [<matplotlib.lines.Line2D at 0x297344195b0>,\n  <matplotlib.lines.Line2D at 0x29734419880>,\n  <matplotlib.lines.Line2D at 0x297344259a0>,\n  <matplotlib.lines.Line2D at 0x29734425c70>],\n 'boxes': [<matplotlib.lines.Line2D at 0x2973440de20>,\n  <matplotlib.lines.Line2D at 0x29734425130>],\n 'medians': [<matplotlib.lines.Line2D at 0x29734419b50>,\n  <matplotlib.lines.Line2D at 0x29734425f40>],\n 'fliers': [<matplotlib.lines.Line2D at 0x29734419e20>,\n  <matplotlib.lines.Line2D at 0x29734431250>],\n 'means': []}"
     },
     "execution_count": 156,
     "metadata": {},
     "output_type": "execute_result"
    },
    {
     "data": {
      "text/plain": "<Figure size 432x288 with 1 Axes>",
      "image/png": "[encoded data removed]"
     },
     "metadata": {},
     "output_type": "display_data"
    }
   ],
   "source": [
    "plt.boxplot([score_toy_story.nota, score_jumanji.nota])"
   ],
   "metadata": {
    "collapsed": false,
    "pycharm": {
     "name": "#%%\n"
    }
   }
  },
  {
   "cell_type": "code",
   "execution_count": 159,
   "outputs": [
    {
     "data": {
      "text/plain": "<AxesSubplot:xlabel='filme_ID', ylabel='nota'>"
     },
     "execution_count": 159,
     "metadata": {},
     "output_type": "execute_result"
    },
    {
     "data": {
      "text/plain": "<Figure size 432x288 with 1 Axes>",
      "image/png": "[encoded data removed]"
     },
     "metadata": {},
     "output_type": "display_data"
    }
   ],
   "source": [
    "sns.boxplot(x=\"filme_ID\", y=\"nota\",data=notas.query(\"filme_ID in [1,2]\"))"
   ],
   "metadata": {
    "collapsed": false,
    "pycharm": {
     "name": "#%%\n"
    }
   }
  },
  {
   "cell_type": "code",
   "execution_count": 160,
   "outputs": [
    {
     "data": {
      "text/plain": "<AxesSubplot:xlabel='filme_ID', ylabel='nota'>"
     },
     "execution_count": 160,
     "metadata": {},
     "output_type": "execute_result"
    },
    {
     "data": {
      "text/plain": "<Figure size 432x288 with 1 Axes>",
      "image/png": "[encoded data removed]"
     },
     "metadata": {},
     "output_type": "display_data"
    }
   ],
   "source": [
    "sns.boxplot(x=\"filme_ID\", y=\"nota\",data=notas.query(\"filme_ID in [1,2,3,4,5]\"))"
   ],
   "metadata": {
    "collapsed": false,
    "pycharm": {
     "name": "#%%\n"
    }
   }
  },
  {
   "cell_type": "code",
   "execution_count": 164,
   "outputs": [
    {
     "name": "stdout",
     "output_type": "stream",
     "text": [
      "0.8348591407114045 0.8817134921476455\n"
     ]
    }
   ],
   "source": [
    "print(score_toy_story.nota.std(), score_jumanji.nota.std())\n"
   ],
   "metadata": {
    "collapsed": false,
    "pycharm": {
     "name": "#%%\n"
    }
   }
  },
  {
   "cell_type": "code",
   "execution_count": null,
   "outputs": [],
   "source": [],
   "metadata": {
    "collapsed": false,
    "pycharm": {
     "name": "#%%\n"
    }
   }
  }
 ],
 "metadata": {
  "kernelspec": {
   "display_name": "Python 3",
   "language": "python",
   "name": "python3"
  },
  "language_info": {
   "codemirror_mode": {
    "name": "ipython",
    "version": 2
   },
   "file_extension": ".py",
   "mimetype": "text/x-python",
   "name": "python",
   "nbconvert_exporter": "python",
   "pygments_lexer": "ipython2",
   "version": "2.7.6"
  }
 },
 "nbformat": 4,
 "nbformat_minor": 0
}